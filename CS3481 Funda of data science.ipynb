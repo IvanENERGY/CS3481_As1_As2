{
 "cells": [
  {
   "cell_type": "code",
   "execution_count": 15,
   "id": "49d85e22",
   "metadata": {
    "scrolled": true
   },
   "outputs": [
    {
     "name": "stdout",
     "output_type": "stream",
     "text": [
      "hii Fundamental of Data Science\n"
     ]
    }
   ],
   "source": [
    "print(\"hii Fundamental of Data Science\")"
   ]
  },
  {
   "cell_type": "code",
   "execution_count": 8,
   "id": "150b604d",
   "metadata": {},
   "outputs": [
    {
     "name": "stdout",
     "output_type": "stream",
     "text": [
      "ok\n"
     ]
    }
   ],
   "source": [
    "import graphviz\n",
    "print('ok')"
   ]
  },
  {
   "cell_type": "code",
   "execution_count": 4,
   "id": "cd491557",
   "metadata": {},
   "outputs": [],
   "source": [
    "from sklearn import datasets\n",
    "iris=datasets.load_iris()"
   ]
  },
  {
   "cell_type": "code",
   "execution_count": 43,
   "id": "1d444d1b",
   "metadata": {},
   "outputs": [
    {
     "name": "stdout",
     "output_type": "stream",
     "text": [
      "{'data': array([[5.1, 3.5, 1.4, 0.2],\n",
      "       [4.9, 3. , 1.4, 0.2],\n",
      "       [4.7, 3.2, 1.3, 0.2],\n",
      "       [4.6, 3.1, 1.5, 0.2],\n",
      "       [5. , 3.6, 1.4, 0.2],\n",
      "       [5.4, 3.9, 1.7, 0.4],\n",
      "       [4.6, 3.4, 1.4, 0.3],\n",
      "       [5. , 3.4, 1.5, 0.2],\n",
      "       [4.4, 2.9, 1.4, 0.2],\n",
      "       [4.9, 3.1, 1.5, 0.1],\n",
      "       [5.4, 3.7, 1.5, 0.2],\n",
      "       [4.8, 3.4, 1.6, 0.2],\n",
      "       [4.8, 3. , 1.4, 0.1],\n",
      "       [4.3, 3. , 1.1, 0.1],\n",
      "       [5.8, 4. , 1.2, 0.2],\n",
      "       [5.7, 4.4, 1.5, 0.4],\n",
      "       [5.4, 3.9, 1.3, 0.4],\n",
      "       [5.1, 3.5, 1.4, 0.3],\n",
      "       [5.7, 3.8, 1.7, 0.3],\n",
      "       [5.1, 3.8, 1.5, 0.3],\n",
      "       [5.4, 3.4, 1.7, 0.2],\n",
      "       [5.1, 3.7, 1.5, 0.4],\n",
      "       [4.6, 3.6, 1. , 0.2],\n",
      "       [5.1, 3.3, 1.7, 0.5],\n",
      "       [4.8, 3.4, 1.9, 0.2],\n",
      "       [5. , 3. , 1.6, 0.2],\n",
      "       [5. , 3.4, 1.6, 0.4],\n",
      "       [5.2, 3.5, 1.5, 0.2],\n",
      "       [5.2, 3.4, 1.4, 0.2],\n",
      "       [4.7, 3.2, 1.6, 0.2],\n",
      "       [4.8, 3.1, 1.6, 0.2],\n",
      "       [5.4, 3.4, 1.5, 0.4],\n",
      "       [5.2, 4.1, 1.5, 0.1],\n",
      "       [5.5, 4.2, 1.4, 0.2],\n",
      "       [4.9, 3.1, 1.5, 0.2],\n",
      "       [5. , 3.2, 1.2, 0.2],\n",
      "       [5.5, 3.5, 1.3, 0.2],\n",
      "       [4.9, 3.6, 1.4, 0.1],\n",
      "       [4.4, 3. , 1.3, 0.2],\n",
      "       [5.1, 3.4, 1.5, 0.2],\n",
      "       [5. , 3.5, 1.3, 0.3],\n",
      "       [4.5, 2.3, 1.3, 0.3],\n",
      "       [4.4, 3.2, 1.3, 0.2],\n",
      "       [5. , 3.5, 1.6, 0.6],\n",
      "       [5.1, 3.8, 1.9, 0.4],\n",
      "       [4.8, 3. , 1.4, 0.3],\n",
      "       [5.1, 3.8, 1.6, 0.2],\n",
      "       [4.6, 3.2, 1.4, 0.2],\n",
      "       [5.3, 3.7, 1.5, 0.2],\n",
      "       [5. , 3.3, 1.4, 0.2],\n",
      "       [7. , 3.2, 4.7, 1.4],\n",
      "       [6.4, 3.2, 4.5, 1.5],\n",
      "       [6.9, 3.1, 4.9, 1.5],\n",
      "       [5.5, 2.3, 4. , 1.3],\n",
      "       [6.5, 2.8, 4.6, 1.5],\n",
      "       [5.7, 2.8, 4.5, 1.3],\n",
      "       [6.3, 3.3, 4.7, 1.6],\n",
      "       [4.9, 2.4, 3.3, 1. ],\n",
      "       [6.6, 2.9, 4.6, 1.3],\n",
      "       [5.2, 2.7, 3.9, 1.4],\n",
      "       [5. , 2. , 3.5, 1. ],\n",
      "       [5.9, 3. , 4.2, 1.5],\n",
      "       [6. , 2.2, 4. , 1. ],\n",
      "       [6.1, 2.9, 4.7, 1.4],\n",
      "       [5.6, 2.9, 3.6, 1.3],\n",
      "       [6.7, 3.1, 4.4, 1.4],\n",
      "       [5.6, 3. , 4.5, 1.5],\n",
      "       [5.8, 2.7, 4.1, 1. ],\n",
      "       [6.2, 2.2, 4.5, 1.5],\n",
      "       [5.6, 2.5, 3.9, 1.1],\n",
      "       [5.9, 3.2, 4.8, 1.8],\n",
      "       [6.1, 2.8, 4. , 1.3],\n",
      "       [6.3, 2.5, 4.9, 1.5],\n",
      "       [6.1, 2.8, 4.7, 1.2],\n",
      "       [6.4, 2.9, 4.3, 1.3],\n",
      "       [6.6, 3. , 4.4, 1.4],\n",
      "       [6.8, 2.8, 4.8, 1.4],\n",
      "       [6.7, 3. , 5. , 1.7],\n",
      "       [6. , 2.9, 4.5, 1.5],\n",
      "       [5.7, 2.6, 3.5, 1. ],\n",
      "       [5.5, 2.4, 3.8, 1.1],\n",
      "       [5.5, 2.4, 3.7, 1. ],\n",
      "       [5.8, 2.7, 3.9, 1.2],\n",
      "       [6. , 2.7, 5.1, 1.6],\n",
      "       [5.4, 3. , 4.5, 1.5],\n",
      "       [6. , 3.4, 4.5, 1.6],\n",
      "       [6.7, 3.1, 4.7, 1.5],\n",
      "       [6.3, 2.3, 4.4, 1.3],\n",
      "       [5.6, 3. , 4.1, 1.3],\n",
      "       [5.5, 2.5, 4. , 1.3],\n",
      "       [5.5, 2.6, 4.4, 1.2],\n",
      "       [6.1, 3. , 4.6, 1.4],\n",
      "       [5.8, 2.6, 4. , 1.2],\n",
      "       [5. , 2.3, 3.3, 1. ],\n",
      "       [5.6, 2.7, 4.2, 1.3],\n",
      "       [5.7, 3. , 4.2, 1.2],\n",
      "       [5.7, 2.9, 4.2, 1.3],\n",
      "       [6.2, 2.9, 4.3, 1.3],\n",
      "       [5.1, 2.5, 3. , 1.1],\n",
      "       [5.7, 2.8, 4.1, 1.3],\n",
      "       [6.3, 3.3, 6. , 2.5],\n",
      "       [5.8, 2.7, 5.1, 1.9],\n",
      "       [7.1, 3. , 5.9, 2.1],\n",
      "       [6.3, 2.9, 5.6, 1.8],\n",
      "       [6.5, 3. , 5.8, 2.2],\n",
      "       [7.6, 3. , 6.6, 2.1],\n",
      "       [4.9, 2.5, 4.5, 1.7],\n",
      "       [7.3, 2.9, 6.3, 1.8],\n",
      "       [6.7, 2.5, 5.8, 1.8],\n",
      "       [7.2, 3.6, 6.1, 2.5],\n",
      "       [6.5, 3.2, 5.1, 2. ],\n",
      "       [6.4, 2.7, 5.3, 1.9],\n",
      "       [6.8, 3. , 5.5, 2.1],\n",
      "       [5.7, 2.5, 5. , 2. ],\n",
      "       [5.8, 2.8, 5.1, 2.4],\n",
      "       [6.4, 3.2, 5.3, 2.3],\n",
      "       [6.5, 3. , 5.5, 1.8],\n",
      "       [7.7, 3.8, 6.7, 2.2],\n",
      "       [7.7, 2.6, 6.9, 2.3],\n",
      "       [6. , 2.2, 5. , 1.5],\n",
      "       [6.9, 3.2, 5.7, 2.3],\n",
      "       [5.6, 2.8, 4.9, 2. ],\n",
      "       [7.7, 2.8, 6.7, 2. ],\n",
      "       [6.3, 2.7, 4.9, 1.8],\n",
      "       [6.7, 3.3, 5.7, 2.1],\n",
      "       [7.2, 3.2, 6. , 1.8],\n",
      "       [6.2, 2.8, 4.8, 1.8],\n",
      "       [6.1, 3. , 4.9, 1.8],\n",
      "       [6.4, 2.8, 5.6, 2.1],\n",
      "       [7.2, 3. , 5.8, 1.6],\n",
      "       [7.4, 2.8, 6.1, 1.9],\n",
      "       [7.9, 3.8, 6.4, 2. ],\n",
      "       [6.4, 2.8, 5.6, 2.2],\n",
      "       [6.3, 2.8, 5.1, 1.5],\n",
      "       [6.1, 2.6, 5.6, 1.4],\n",
      "       [7.7, 3. , 6.1, 2.3],\n",
      "       [6.3, 3.4, 5.6, 2.4],\n",
      "       [6.4, 3.1, 5.5, 1.8],\n",
      "       [6. , 3. , 4.8, 1.8],\n",
      "       [6.9, 3.1, 5.4, 2.1],\n",
      "       [6.7, 3.1, 5.6, 2.4],\n",
      "       [6.9, 3.1, 5.1, 2.3],\n",
      "       [5.8, 2.7, 5.1, 1.9],\n",
      "       [6.8, 3.2, 5.9, 2.3],\n",
      "       [6.7, 3.3, 5.7, 2.5],\n",
      "       [6.7, 3. , 5.2, 2.3],\n",
      "       [6.3, 2.5, 5. , 1.9],\n",
      "       [6.5, 3. , 5.2, 2. ],\n",
      "       [6.2, 3.4, 5.4, 2.3],\n",
      "       [5.9, 3. , 5.1, 1.8]]), 'target': array([0, 0, 0, 0, 0, 0, 0, 0, 0, 0, 0, 0, 0, 0, 0, 0, 0, 0, 0, 0, 0, 0,\n",
      "       0, 0, 0, 0, 0, 0, 0, 0, 0, 0, 0, 0, 0, 0, 0, 0, 0, 0, 0, 0, 0, 0,\n",
      "       0, 0, 0, 0, 0, 0, 1, 1, 1, 1, 1, 1, 1, 1, 1, 1, 1, 1, 1, 1, 1, 1,\n",
      "       1, 1, 1, 1, 1, 1, 1, 1, 1, 1, 1, 1, 1, 1, 1, 1, 1, 1, 1, 1, 1, 1,\n",
      "       1, 1, 1, 1, 1, 1, 1, 1, 1, 1, 1, 1, 2, 2, 2, 2, 2, 2, 2, 2, 2, 2,\n",
      "       2, 2, 2, 2, 2, 2, 2, 2, 2, 2, 2, 2, 2, 2, 2, 2, 2, 2, 2, 2, 2, 2,\n",
      "       2, 2, 2, 2, 2, 2, 2, 2, 2, 2, 2, 2, 2, 2, 2, 2, 2, 2]), 'frame': None, 'target_names': array(['setosa', 'versicolor', 'virginica'], dtype='<U10'), 'DESCR': '.. _iris_dataset:\\n\\nIris plants dataset\\n--------------------\\n\\n**Data Set Characteristics:**\\n\\n    :Number of Instances: 150 (50 in each of three classes)\\n    :Number of Attributes: 4 numeric, predictive attributes and the class\\n    :Attribute Information:\\n        - sepal length in cm\\n        - sepal width in cm\\n        - petal length in cm\\n        - petal width in cm\\n        - class:\\n                - Iris-Setosa\\n                - Iris-Versicolour\\n                - Iris-Virginica\\n                \\n    :Summary Statistics:\\n\\n    ============== ==== ==== ======= ===== ====================\\n                    Min  Max   Mean    SD   Class Correlation\\n    ============== ==== ==== ======= ===== ====================\\n    sepal length:   4.3  7.9   5.84   0.83    0.7826\\n    sepal width:    2.0  4.4   3.05   0.43   -0.4194\\n    petal length:   1.0  6.9   3.76   1.76    0.9490  (high!)\\n    petal width:    0.1  2.5   1.20   0.76    0.9565  (high!)\\n    ============== ==== ==== ======= ===== ====================\\n\\n    :Missing Attribute Values: None\\n    :Class Distribution: 33.3% for each of 3 classes.\\n    :Creator: R.A. Fisher\\n    :Donor: Michael Marshall (MARSHALL%PLU@io.arc.nasa.gov)\\n    :Date: July, 1988\\n\\nThe famous Iris database, first used by Sir R.A. Fisher. The dataset is taken\\nfrom Fisher\\'s paper. Note that it\\'s the same as in R, but not as in the UCI\\nMachine Learning Repository, which has two wrong data points.\\n\\nThis is perhaps the best known database to be found in the\\npattern recognition literature.  Fisher\\'s paper is a classic in the field and\\nis referenced frequently to this day.  (See Duda & Hart, for example.)  The\\ndata set contains 3 classes of 50 instances each, where each class refers to a\\ntype of iris plant.  One class is linearly separable from the other 2; the\\nlatter are NOT linearly separable from each other.\\n\\n.. topic:: References\\n\\n   - Fisher, R.A. \"The use of multiple measurements in taxonomic problems\"\\n     Annual Eugenics, 7, Part II, 179-188 (1936); also in \"Contributions to\\n     Mathematical Statistics\" (John Wiley, NY, 1950).\\n   - Duda, R.O., & Hart, P.E. (1973) Pattern Classification and Scene Analysis.\\n     (Q327.D83) John Wiley & Sons.  ISBN 0-471-22361-1.  See page 218.\\n   - Dasarathy, B.V. (1980) \"Nosing Around the Neighborhood: A New System\\n     Structure and Classification Rule for Recognition in Partially Exposed\\n     Environments\".  IEEE Transactions on Pattern Analysis and Machine\\n     Intelligence, Vol. PAMI-2, No. 1, 67-71.\\n   - Gates, G.W. (1972) \"The Reduced Nearest Neighbor Rule\".  IEEE Transactions\\n     on Information Theory, May 1972, 431-433.\\n   - See also: 1988 MLC Proceedings, 54-64.  Cheeseman et al\"s AUTOCLASS II\\n     conceptual clustering system finds 3 classes in the data.\\n   - Many, many more ...', 'feature_names': ['sepal length (cm)', 'sepal width (cm)', 'petal length (cm)', 'petal width (cm)'], 'filename': 'iris.csv', 'data_module': 'sklearn.datasets.data'}\n"
     ]
    }
   ],
   "source": [
    "print(iris)"
   ]
  },
  {
   "cell_type": "code",
   "execution_count": 5,
   "id": "af2f601f",
   "metadata": {},
   "outputs": [
    {
     "data": {
      "text/plain": [
       "['sepal length (cm)',\n",
       " 'sepal width (cm)',\n",
       " 'petal length (cm)',\n",
       " 'petal width (cm)']"
      ]
     },
     "execution_count": 5,
     "metadata": {},
     "output_type": "execute_result"
    }
   ],
   "source": [
    "iris.feature_names"
   ]
  },
  {
   "cell_type": "code",
   "execution_count": 6,
   "id": "2e5c45ee",
   "metadata": {},
   "outputs": [
    {
     "data": {
      "text/plain": [
       "array(['setosa', 'versicolor', 'virginica'], dtype='<U10')"
      ]
     },
     "execution_count": 6,
     "metadata": {},
     "output_type": "execute_result"
    }
   ],
   "source": [
    "iris.target_names"
   ]
  },
  {
   "cell_type": "code",
   "execution_count": 7,
   "id": "f22d7be6",
   "metadata": {},
   "outputs": [
    {
     "data": {
      "text/plain": [
       "array([[5.1, 3.5, 1.4, 0.2],\n",
       "       [4.9, 3. , 1.4, 0.2],\n",
       "       [4.7, 3.2, 1.3, 0.2],\n",
       "       [4.6, 3.1, 1.5, 0.2],\n",
       "       [5. , 3.6, 1.4, 0.2],\n",
       "       [5.4, 3.9, 1.7, 0.4],\n",
       "       [4.6, 3.4, 1.4, 0.3],\n",
       "       [5. , 3.4, 1.5, 0.2],\n",
       "       [4.4, 2.9, 1.4, 0.2],\n",
       "       [4.9, 3.1, 1.5, 0.1],\n",
       "       [5.4, 3.7, 1.5, 0.2],\n",
       "       [4.8, 3.4, 1.6, 0.2],\n",
       "       [4.8, 3. , 1.4, 0.1],\n",
       "       [4.3, 3. , 1.1, 0.1],\n",
       "       [5.8, 4. , 1.2, 0.2],\n",
       "       [5.7, 4.4, 1.5, 0.4],\n",
       "       [5.4, 3.9, 1.3, 0.4],\n",
       "       [5.1, 3.5, 1.4, 0.3],\n",
       "       [5.7, 3.8, 1.7, 0.3],\n",
       "       [5.1, 3.8, 1.5, 0.3],\n",
       "       [5.4, 3.4, 1.7, 0.2],\n",
       "       [5.1, 3.7, 1.5, 0.4],\n",
       "       [4.6, 3.6, 1. , 0.2],\n",
       "       [5.1, 3.3, 1.7, 0.5],\n",
       "       [4.8, 3.4, 1.9, 0.2],\n",
       "       [5. , 3. , 1.6, 0.2],\n",
       "       [5. , 3.4, 1.6, 0.4],\n",
       "       [5.2, 3.5, 1.5, 0.2],\n",
       "       [5.2, 3.4, 1.4, 0.2],\n",
       "       [4.7, 3.2, 1.6, 0.2],\n",
       "       [4.8, 3.1, 1.6, 0.2],\n",
       "       [5.4, 3.4, 1.5, 0.4],\n",
       "       [5.2, 4.1, 1.5, 0.1],\n",
       "       [5.5, 4.2, 1.4, 0.2],\n",
       "       [4.9, 3.1, 1.5, 0.2],\n",
       "       [5. , 3.2, 1.2, 0.2],\n",
       "       [5.5, 3.5, 1.3, 0.2],\n",
       "       [4.9, 3.6, 1.4, 0.1],\n",
       "       [4.4, 3. , 1.3, 0.2],\n",
       "       [5.1, 3.4, 1.5, 0.2],\n",
       "       [5. , 3.5, 1.3, 0.3],\n",
       "       [4.5, 2.3, 1.3, 0.3],\n",
       "       [4.4, 3.2, 1.3, 0.2],\n",
       "       [5. , 3.5, 1.6, 0.6],\n",
       "       [5.1, 3.8, 1.9, 0.4],\n",
       "       [4.8, 3. , 1.4, 0.3],\n",
       "       [5.1, 3.8, 1.6, 0.2],\n",
       "       [4.6, 3.2, 1.4, 0.2],\n",
       "       [5.3, 3.7, 1.5, 0.2],\n",
       "       [5. , 3.3, 1.4, 0.2],\n",
       "       [7. , 3.2, 4.7, 1.4],\n",
       "       [6.4, 3.2, 4.5, 1.5],\n",
       "       [6.9, 3.1, 4.9, 1.5],\n",
       "       [5.5, 2.3, 4. , 1.3],\n",
       "       [6.5, 2.8, 4.6, 1.5],\n",
       "       [5.7, 2.8, 4.5, 1.3],\n",
       "       [6.3, 3.3, 4.7, 1.6],\n",
       "       [4.9, 2.4, 3.3, 1. ],\n",
       "       [6.6, 2.9, 4.6, 1.3],\n",
       "       [5.2, 2.7, 3.9, 1.4],\n",
       "       [5. , 2. , 3.5, 1. ],\n",
       "       [5.9, 3. , 4.2, 1.5],\n",
       "       [6. , 2.2, 4. , 1. ],\n",
       "       [6.1, 2.9, 4.7, 1.4],\n",
       "       [5.6, 2.9, 3.6, 1.3],\n",
       "       [6.7, 3.1, 4.4, 1.4],\n",
       "       [5.6, 3. , 4.5, 1.5],\n",
       "       [5.8, 2.7, 4.1, 1. ],\n",
       "       [6.2, 2.2, 4.5, 1.5],\n",
       "       [5.6, 2.5, 3.9, 1.1],\n",
       "       [5.9, 3.2, 4.8, 1.8],\n",
       "       [6.1, 2.8, 4. , 1.3],\n",
       "       [6.3, 2.5, 4.9, 1.5],\n",
       "       [6.1, 2.8, 4.7, 1.2],\n",
       "       [6.4, 2.9, 4.3, 1.3],\n",
       "       [6.6, 3. , 4.4, 1.4],\n",
       "       [6.8, 2.8, 4.8, 1.4],\n",
       "       [6.7, 3. , 5. , 1.7],\n",
       "       [6. , 2.9, 4.5, 1.5],\n",
       "       [5.7, 2.6, 3.5, 1. ],\n",
       "       [5.5, 2.4, 3.8, 1.1],\n",
       "       [5.5, 2.4, 3.7, 1. ],\n",
       "       [5.8, 2.7, 3.9, 1.2],\n",
       "       [6. , 2.7, 5.1, 1.6],\n",
       "       [5.4, 3. , 4.5, 1.5],\n",
       "       [6. , 3.4, 4.5, 1.6],\n",
       "       [6.7, 3.1, 4.7, 1.5],\n",
       "       [6.3, 2.3, 4.4, 1.3],\n",
       "       [5.6, 3. , 4.1, 1.3],\n",
       "       [5.5, 2.5, 4. , 1.3],\n",
       "       [5.5, 2.6, 4.4, 1.2],\n",
       "       [6.1, 3. , 4.6, 1.4],\n",
       "       [5.8, 2.6, 4. , 1.2],\n",
       "       [5. , 2.3, 3.3, 1. ],\n",
       "       [5.6, 2.7, 4.2, 1.3],\n",
       "       [5.7, 3. , 4.2, 1.2],\n",
       "       [5.7, 2.9, 4.2, 1.3],\n",
       "       [6.2, 2.9, 4.3, 1.3],\n",
       "       [5.1, 2.5, 3. , 1.1],\n",
       "       [5.7, 2.8, 4.1, 1.3],\n",
       "       [6.3, 3.3, 6. , 2.5],\n",
       "       [5.8, 2.7, 5.1, 1.9],\n",
       "       [7.1, 3. , 5.9, 2.1],\n",
       "       [6.3, 2.9, 5.6, 1.8],\n",
       "       [6.5, 3. , 5.8, 2.2],\n",
       "       [7.6, 3. , 6.6, 2.1],\n",
       "       [4.9, 2.5, 4.5, 1.7],\n",
       "       [7.3, 2.9, 6.3, 1.8],\n",
       "       [6.7, 2.5, 5.8, 1.8],\n",
       "       [7.2, 3.6, 6.1, 2.5],\n",
       "       [6.5, 3.2, 5.1, 2. ],\n",
       "       [6.4, 2.7, 5.3, 1.9],\n",
       "       [6.8, 3. , 5.5, 2.1],\n",
       "       [5.7, 2.5, 5. , 2. ],\n",
       "       [5.8, 2.8, 5.1, 2.4],\n",
       "       [6.4, 3.2, 5.3, 2.3],\n",
       "       [6.5, 3. , 5.5, 1.8],\n",
       "       [7.7, 3.8, 6.7, 2.2],\n",
       "       [7.7, 2.6, 6.9, 2.3],\n",
       "       [6. , 2.2, 5. , 1.5],\n",
       "       [6.9, 3.2, 5.7, 2.3],\n",
       "       [5.6, 2.8, 4.9, 2. ],\n",
       "       [7.7, 2.8, 6.7, 2. ],\n",
       "       [6.3, 2.7, 4.9, 1.8],\n",
       "       [6.7, 3.3, 5.7, 2.1],\n",
       "       [7.2, 3.2, 6. , 1.8],\n",
       "       [6.2, 2.8, 4.8, 1.8],\n",
       "       [6.1, 3. , 4.9, 1.8],\n",
       "       [6.4, 2.8, 5.6, 2.1],\n",
       "       [7.2, 3. , 5.8, 1.6],\n",
       "       [7.4, 2.8, 6.1, 1.9],\n",
       "       [7.9, 3.8, 6.4, 2. ],\n",
       "       [6.4, 2.8, 5.6, 2.2],\n",
       "       [6.3, 2.8, 5.1, 1.5],\n",
       "       [6.1, 2.6, 5.6, 1.4],\n",
       "       [7.7, 3. , 6.1, 2.3],\n",
       "       [6.3, 3.4, 5.6, 2.4],\n",
       "       [6.4, 3.1, 5.5, 1.8],\n",
       "       [6. , 3. , 4.8, 1.8],\n",
       "       [6.9, 3.1, 5.4, 2.1],\n",
       "       [6.7, 3.1, 5.6, 2.4],\n",
       "       [6.9, 3.1, 5.1, 2.3],\n",
       "       [5.8, 2.7, 5.1, 1.9],\n",
       "       [6.8, 3.2, 5.9, 2.3],\n",
       "       [6.7, 3.3, 5.7, 2.5],\n",
       "       [6.7, 3. , 5.2, 2.3],\n",
       "       [6.3, 2.5, 5. , 1.9],\n",
       "       [6.5, 3. , 5.2, 2. ],\n",
       "       [6.2, 3.4, 5.4, 2.3],\n",
       "       [5.9, 3. , 5.1, 1.8]])"
      ]
     },
     "execution_count": 7,
     "metadata": {},
     "output_type": "execute_result"
    }
   ],
   "source": [
    "iris.data"
   ]
  },
  {
   "cell_type": "code",
   "execution_count": 8,
   "id": "668566a8",
   "metadata": {},
   "outputs": [
    {
     "data": {
      "text/plain": [
       "array([0, 0, 0, 0, 0, 0, 0, 0, 0, 0, 0, 0, 0, 0, 0, 0, 0, 0, 0, 0, 0, 0,\n",
       "       0, 0, 0, 0, 0, 0, 0, 0, 0, 0, 0, 0, 0, 0, 0, 0, 0, 0, 0, 0, 0, 0,\n",
       "       0, 0, 0, 0, 0, 0, 1, 1, 1, 1, 1, 1, 1, 1, 1, 1, 1, 1, 1, 1, 1, 1,\n",
       "       1, 1, 1, 1, 1, 1, 1, 1, 1, 1, 1, 1, 1, 1, 1, 1, 1, 1, 1, 1, 1, 1,\n",
       "       1, 1, 1, 1, 1, 1, 1, 1, 1, 1, 1, 1, 2, 2, 2, 2, 2, 2, 2, 2, 2, 2,\n",
       "       2, 2, 2, 2, 2, 2, 2, 2, 2, 2, 2, 2, 2, 2, 2, 2, 2, 2, 2, 2, 2, 2,\n",
       "       2, 2, 2, 2, 2, 2, 2, 2, 2, 2, 2, 2, 2, 2, 2, 2, 2, 2])"
      ]
     },
     "execution_count": 8,
     "metadata": {},
     "output_type": "execute_result"
    }
   ],
   "source": [
    "iris.target"
   ]
  },
  {
   "cell_type": "code",
   "execution_count": 9,
   "id": "3e47f687",
   "metadata": {},
   "outputs": [
    {
     "data": {
      "image/png": "[encoded data removed]",
      "text/plain": [
       "<Figure size 640x480 with 1 Axes>"
      ]
     },
     "metadata": {},
     "output_type": "display_data"
    }
   ],
   "source": [
    "import matplotlib.pyplot as plt\n",
    "X = iris.data[:, 2:4] #all 150 record petal len petal width\n",
    "t=iris.target #all 150 record having 3 color\n",
    "\n",
    "plt.scatter(X[:,0],X[:,1],c=t)\n",
    "plt.xlabel('Petal length')\n",
    "plt.ylabel('Petal width')\n",
    "plt.show()\n"
   ]
  },
  {
   "cell_type": "code",
   "execution_count": 10,
   "id": "c3bb864a",
   "metadata": {},
   "outputs": [
    {
     "data": {
      "image/png": "[encoded data removed]",
      "text/plain": [
       "<Figure size 640x480 with 1 Axes>"
      ]
     },
     "metadata": {},
     "output_type": "display_data"
    }
   ],
   "source": [
    "import matplotlib.pyplot as plt\n",
    "X=iris.data[:,:2]\n",
    "target=iris.target\n",
    "\n",
    "plt.scatter(X[:,0],X[:,1],c=target)\n",
    "plt.xlabel('sepal length')\n",
    "plt.ylabel('sepal width')\n",
    "plt.show()"
   ]
  },
  {
   "cell_type": "code",
   "execution_count": 11,
   "id": "d4f32128",
   "metadata": {},
   "outputs": [
    {
     "data": {
      "text/plain": [
       "['sepal length (cm)',\n",
       " 'sepal width (cm)',\n",
       " 'petal length (cm)',\n",
       " 'petal width (cm)']"
      ]
     },
     "execution_count": 11,
     "metadata": {},
     "output_type": "execute_result"
    }
   ],
   "source": [
    "iris.feature_names"
   ]
  },
  {
   "cell_type": "code",
   "execution_count": 12,
   "id": "b866d853",
   "metadata": {},
   "outputs": [
    {
     "name": "stdout",
     "output_type": "stream",
     "text": [
      "[[3 4]]\n"
     ]
    }
   ],
   "source": [
    "import numpy as np\n",
    "a=np.array([[2,2,3],[1,3,4],[3,3,4],[14,5,5]])\n",
    "print(a[1:2,1:3])"
   ]
  },
  {
   "cell_type": "code",
   "execution_count": 13,
   "id": "cb393ec9",
   "metadata": {},
   "outputs": [],
   "source": [
    "#build decision tree 1\n",
    "from sklearn import tree\n",
    "clf=tree.DecisionTreeClassifier(max_depth=3)\n",
    "clf=clf.fit(iris.data,iris.target)"
   ]
  },
  {
   "cell_type": "code",
   "execution_count": 16,
   "id": "307a0756",
   "metadata": {},
   "outputs": [
    {
     "data": {
      "text/plain": [
       "'Iris.pdf'"
      ]
     },
     "execution_count": 16,
     "metadata": {},
     "output_type": "execute_result"
    }
   ],
   "source": [
    "#plot decision tree\n",
    "import graphviz\n",
    "dot_data = tree.export_graphviz(clf,out_file=None,\n",
    "                               feature_names=iris.feature_names,\n",
    "                               class_names=iris.target_names,\n",
    "                               filled=True,\n",
    "                               rounded=True,\n",
    "                               special_characters=True)\n",
    "graph=graphviz.Source(dot_data)\n",
    "\n",
    "graph.render('Iris', view=True)"
   ]
  },
  {
   "cell_type": "code",
   "execution_count": 24,
   "id": "c192a3b1",
   "metadata": {},
   "outputs": [],
   "source": [
    "clf=tree.DecisionTreeClassifier(max_depth=3, criterion=\"entropy\")\n",
    "clf=clf.fit(iris.data,iris.target)"
   ]
  },
  {
   "cell_type": "code",
   "execution_count": 27,
   "id": "75923347",
   "metadata": {},
   "outputs": [
    {
     "data": {
      "text/plain": [
       "'IrisEntropy.pdf'"
      ]
     },
     "execution_count": 27,
     "metadata": {},
     "output_type": "execute_result"
    }
   ],
   "source": [
    "#plot decision tree\n",
    "import graphviz\n",
    "dot_data = tree.export_graphviz(clf,out_file=None,\n",
    "                               feature_names=iris.feature_names,\n",
    "                               class_names=iris.target_names,\n",
    "                               filled=True,\n",
    "                               rounded=True,\n",
    "                               special_characters=True)\n",
    "graph=graphviz.Source(dot_data)\n",
    "\n",
    "graph.render('IrisEntropy', view=True)"
   ]
  },
  {
   "cell_type": "code",
   "execution_count": 36,
   "id": "ed9b611e",
   "metadata": {},
   "outputs": [],
   "source": [
    "clf=tree.DecisionTreeClassifier(max_depth=2)\n",
    "clf=clf.fit(iris.data,iris.target)"
   ]
  },
  {
   "cell_type": "code",
   "execution_count": 21,
   "id": "e2e92ecf",
   "metadata": {},
   "outputs": [
    {
     "data": {
      "text/plain": [
       "'IrisDepth2.pdf'"
      ]
     },
     "execution_count": 21,
     "metadata": {},
     "output_type": "execute_result"
    }
   ],
   "source": [
    "#plot decision tree\n",
    "import graphviz\n",
    "dot_data = tree.export_graphviz(clf,out_file=None,\n",
    "                               feature_names=iris.feature_names,\n",
    "                               class_names=iris.target_names,\n",
    "                               filled=True,\n",
    "                               rounded=True,\n",
    "                               special_characters=True)\n",
    "graph=graphviz.Source(dot_data)\n",
    "\n",
    "graph.render('IrisDepth2', view=True)"
   ]
  },
  {
   "cell_type": "code",
   "execution_count": 28,
   "id": "bb704475",
   "metadata": {},
   "outputs": [
    {
     "name": "stdout",
     "output_type": "stream",
     "text": [
      "['setosa' 'versicolor' 'virginica']\n"
     ]
    }
   ],
   "source": [
    "import numpy as np\n",
    "irisTest= np.array([[4.6,3.5,1.1,0.25],[5.7,2.5,2.8,1.2],[7.3,2.8,6.6,2.2]])\n",
    "prediction= clf.predict(irisTest)\n",
    "print(iris.target_names[prediction])"
   ]
  },
  {
   "cell_type": "code",
   "execution_count": 31,
   "id": "04f813b6",
   "metadata": {},
   "outputs": [
    {
     "name": "stdout",
     "output_type": "stream",
     "text": [
      "0.6666666666666666\n"
     ]
    }
   ],
   "source": [
    "from sklearn.metrics import accuracy_score\n",
    "print(accuracy_score([0,1,1],prediction))"
   ]
  },
  {
   "cell_type": "code",
   "execution_count": 34,
   "id": "e03126b6",
   "metadata": {},
   "outputs": [
    {
     "name": "stdout",
     "output_type": "stream",
     "text": [
      "[[1 0 0]\n",
      " [0 1 1]\n",
      " [0 0 0]]\n"
     ]
    }
   ],
   "source": [
    "from sklearn.metrics import confusion_matrix\n",
    "print(confusion_matrix([0,1,1],prediction))"
   ]
  },
  {
   "cell_type": "code",
   "execution_count": 37,
   "id": "a586fe96",
   "metadata": {},
   "outputs": [
    {
     "name": "stdout",
     "output_type": "stream",
     "text": [
      "[[[50. 50. 50.]]\n",
      "\n",
      " [[50.  0.  0.]]\n",
      "\n",
      " [[ 0. 50. 50.]]\n",
      "\n",
      " [[ 0. 49.  5.]]\n",
      "\n",
      " [[ 0.  1. 45.]]]\n"
     ]
    }
   ],
   "source": [
    "print(clf.tree_.value)"
   ]
  },
  {
   "cell_type": "code",
   "execution_count": 38,
   "id": "5f7e91df",
   "metadata": {},
   "outputs": [
    {
     "name": "stdout",
     "output_type": "stream",
     "text": [
      "[[1 1 0 0 0]\n",
      " [1 0 1 1 0]\n",
      " [1 0 1 0 1]]\n"
     ]
    }
   ],
   "source": [
    "print(clf.decision_path(irisTest).todense())"
   ]
  },
  {
   "cell_type": "code",
   "execution_count": 203,
   "id": "c78a038c",
   "metadata": {},
   "outputs": [
    {
     "name": "stdout",
     "output_type": "stream",
     "text": [
      "Total no. of rows: 326\n"
     ]
    }
   ],
   "source": [
    "import csv\n",
    "import decimal\n",
    "    \n",
    "# csv file name\n",
    "filename = \"forest_testing.csv\"\n",
    " \n",
    "# initializing the titles and rows list\n",
    "fields = []\n",
    "rows = []\n",
    " \n",
    "# reading csv file\n",
    "with open(filename, 'r') as csvfile:\n",
    "    # creating a csv reader object\n",
    "    csvreader = csv.reader(csvfile)\n",
    " \n",
    "    # extracting field names through first row\n",
    "    fields = next(csvreader)\n",
    " \n",
    "    # extracting each data row one by one\n",
    "    for row in csvreader:\n",
    "        rows.append(row)\n",
    " \n",
    "    # get total number of rows\n",
    "    print(\"Total no. of rows: %d\" % (csvreader.line_num))\n",
    " \n",
    "#\n",
    "forest_feature_names=fields[1:]\n",
    "forest_data=[]\n",
    "forest_target=[]\n",
    "\n",
    "\n",
    "for row in rows[:]:\n",
    "    record=[]\n",
    "    # parsing each column of a row\n",
    "    for col in row:\n",
    "        record.append(col)\n",
    "        \n",
    "    clas=record[0:1]\n",
    "    \n",
    "    if(clas[0].strip()==\"s\"):\n",
    "        forest_target.append(0)\n",
    "    elif(clas[0].strip()==\"h\"):\n",
    "        forest_target.append(1)\n",
    "    elif(clas[0].strip()==\"d\"):\n",
    "        forest_target.append(2)\n",
    "    elif(clas[0].strip()==\"o\"):\n",
    "        forest_target.append(3)\n",
    "    \n",
    "    data=record[1:]\n",
    "    data_formatted=[]\n",
    "    for val in data:\n",
    "        data_formatted.append(float(val.strip()))\n",
    "    forest_data.append(data_formatted)\n"
   ]
  },
  {
   "cell_type": "code",
   "execution_count": 73,
   "id": "df8cd7e2",
   "metadata": {},
   "outputs": [
    {
     "name": "stdout",
     "output_type": "stream",
     "text": [
      "[\"'Sugi' forest\", \"'Hinoki' forest\", \"'Mixed deciduous' forest\", \"'Other' non-forest land\"]\n"
     ]
    }
   ],
   "source": [
    "forest_target_names=[\"'Sugi' forest\",\"'Hinoki' forest\",\"'Mixed deciduous' forest\",\"'Other' non-forest land\"]\n",
    "print(forest_target_names)"
   ]
  },
  {
   "cell_type": "code",
   "execution_count": 75,
   "id": "db061c19",
   "metadata": {},
   "outputs": [
    {
     "name": "stdout",
     "output_type": "stream",
     "text": [
      "['b1', 'b2', 'b3', 'b4', 'b5', 'b6', 'b7', 'b8', 'b9', 'pred_minus_obs_H_b1', 'pred_minus_obs_H_b2', 'pred_minus_obs_H_b3', 'pred_minus_obs_H_b4', 'pred_minus_obs_H_b5', 'pred_minus_obs_H_b6', 'pred_minus_obs_H_b7', 'pred_minus_obs_H_b8', 'pred_minus_obs_H_b9', 'pred_minus_obs_S_b1', 'pred_minus_obs_S_b2', 'pred_minus_obs_S_b3', 'pred_minus_obs_S_b4', 'pred_minus_obs_S_b5', 'pred_minus_obs_S_b6', 'pred_minus_obs_S_b7', 'pred_minus_obs_S_b8', 'pred_minus_obs_S_b9']\n"
     ]
    }
   ],
   "source": [
    "print(forest_feature_names)    \n"
   ]
  },
  {
   "cell_type": "code",
   "execution_count": 76,
   "id": "82627324",
   "metadata": {},
   "outputs": [
    {
     "name": "stdout",
     "output_type": "stream",
     "text": [
      "[[39.0, 36.0, 57.0, 91.0, 59.0, 101.0, 93.0, 27.0, 60.0, 75.7, 14.86, 40.35, 7.97, -32.92, -38.92, -14.94, 4.47, -2.36, -18.41, -1.88, -6.43, -21.03, -1.6, -6.18, -22.5, -5.2, -7.86], [84.0, 30.0, 57.0, 112.0, 51.0, 98.0, 92.0, 26.0, 62.0, 30.58, 20.42, 39.83, -16.74, -24.92, -36.33, -15.67, 8.16, -2.26, -16.27, -1.95, -6.25, -18.79, -1.99, -6.18, -23.41, -8.87, -10.83], [53.0, 25.0, 49.0, 99.0, 51.0, 93.0, 84.0, 26.0, 58.0, 63.2, 26.7, 49.28, 3.25, -24.89, -30.38, -3.6, 4.15, -1.46, -15.92, -1.79, -4.64, -17.73, -0.48, -4.69, -19.97, -4.1, -7.07], [59.0, 26.0, 49.0, 103.0, 47.0, 92.0, 82.0, 25.0, 56.0, 55.54, 24.5, 47.9, -6.2, -20.98, -30.28, -5.03, 7.77, 2.68, -13.77, -2.53, -6.34, -22.03, -2.34, -6.6, -27.1, -7.99, -10.81], [57.0, 49.0, 66.0, 103.0, 64.0, 106.0, 114.0, 28.0, 59.0, 59.44, 2.62, 32.02, -1.33, -37.99, -43.57, -34.25, 1.83, -2.94, -21.74, -1.64, -4.62, -23.74, -0.85, -5.5, -22.83, -2.74, -5.84], [85.0, 28.0, 56.0, 120.0, 52.0, 98.0, 101.0, 27.0, 65.0, 35.14, 23.43, 42.29, -16.58, -25.43, -34.14, -17.45, 1.58, -10.28, -26.18, -1.89, -5.89, -34.92, -1.89, -8.05, -29.72, -1.94, -4.94], [56.0, 29.0, 50.0, 93.0, 51.0, 94.0, 77.0, 26.0, 58.0, 62.5, 22.48, 48.2, 9.69, -24.78, -30.81, 3.91, 3.09, -2.68, -26.33, -0.55, -3.89, -23.84, 0.02, -4.2, -23.17, -0.22, -4.22], [40.0, 39.0, 58.0, 82.0, 61.0, 99.0, 89.0, 26.0, 57.0, 73.99, 12.91, 41.92, 17.33, -34.82, -36.19, -11.07, 4.28, -0.19, -18.72, -2.61, -8.38, -20.56, -1.51, -6.68, -21.16, -3.42, -6.61], [53.0, 27.0, 49.0, 95.0, 49.0, 92.0, 63.0, 25.0, 54.0, 66.97, 24.43, 49.28, 8.08, -22.53, -28.25, 19.78, 3.75, 0.92, -25.65, -2.09, -5.95, -39.27, -2.13, -8.73, -30.73, -2.42, -5.58], [51.0, 57.0, 77.0, 90.0, 89.0, 123.0, 97.0, 47.0, 83.0, 64.91, -5.21, 21.45, 12.21, -62.9, -60.4, -16.75, -16.85, -26.44, -20.97, -1.76, -5.05, -22.01, -0.93, -5.6, -22.26, -3.28, -6.39], [34.0, 32.0, 53.0, 97.0, 53.0, 97.0, 59.0, 22.0, 50.0, 83.32, 19.34, 45.03, 4.09, -26.76, -33.99, 20.34, 7.06, 5.3, -22.93, -1.82, -5.44, -27.3, -1.37, -6.44, -23.23, -1.89, -4.89], [75.0, 68.0, 89.0, 116.0, 77.0, 118.0, 94.0, 42.0, 76.0, 43.28, -16.52, 9.17, -13.26, -50.8, -54.87, -13.2, -12.88, -20.64, -24.49, -1.42, -4.34, -27.33, -0.91, -5.92, -24.1, -1.21, -4.88], [64.0, 52.0, 71.0, 98.0, 72.0, 109.0, 87.0, 37.0, 70.0, 50.02, -0.56, 27.64, 0.31, -46.02, -46.84, -9.36, -5.94, -12.59, -18.32, -2.47, -7.93, -20.07, -1.51, -6.34, -21.78, -4.52, -7.42], [51.0, 47.0, 67.0, 95.0, 66.0, 106.0, 97.0, 26.0, 56.0, 66.92, 4.48, 31.13, 7.76, -39.83, -42.96, -16.39, 3.16, -0.6, -23.75, -1.66, -4.84, -28.07, -1.14, -6.32, -24.11, -1.67, -5.04], [63.0, 28.0, 52.0, 93.0, 51.0, 93.0, 84.0, 25.0, 59.0, 52.49, 24.04, 46.33, 10.0, -24.96, -30.64, -4.09, 5.51, -2.14, -22.89, -1.26, -4.81, -20.77, -0.89, -5.11, -20.06, -3.51, -6.6], [41.0, 44.0, 67.0, 64.0, 71.0, 104.0, 84.0, 54.0, 85.0, 71.81, 8.35, 34.35, 33.13, -44.66, -40.47, -7.91, -24.34, -28.44, -18.06, -3.04, -10.02, -18.23, -1.68, -7.48, -19.16, -2.55, -6.17], [67.0, 68.0, 89.0, 108.0, 74.0, 114.0, 117.0, 44.0, 86.0, 44.82, -17.32, 8.65, -14.46, -46.89, -50.18, -42.21, -14.5, -29.84, -20.1, -0.05, -3.1, -20.06, -1.11, -4.97, -18.07, -0.29, -3.91], [62.0, 59.0, 73.0, 91.0, 78.0, 109.0, 112.0, 28.0, 59.0, 51.78, -7.26, 26.41, 7.38, -52.0, -46.65, -34.42, 2.75, -1.82, -18.39, -2.84, -8.8, -18.93, -1.51, -6.56, -20.28, -3.8, -6.86], [50.0, 25.0, 49.0, 92.0, 48.0, 90.0, 62.0, 23.0, 52.0, 63.08, 25.84, 48.42, 5.61, -21.87, -27.52, 13.09, 5.99, 3.1, -19.16, -2.88, -7.25, -31.35, -2.43, -7.84, -22.66, -2.57, -4.99], [74.0, 29.0, 55.0, 114.0, 52.0, 101.0, 94.0, 28.0, 65.0, 38.43, 23.43, 46.57, -19.59, -25.44, -37.0, -19.66, 0.49, -9.11, -17.91, -3.04, -10.05, -15.37, -1.86, -7.9, -17.2, -1.27, -5.42], [78.0, 85.0, 101.0, 124.0, 82.0, 126.0, 91.0, 50.0, 80.0, 37.23, -33.92, -3.44, -24.21, -55.89, -63.47, -13.53, -20.94, -24.71, -20.68, -1.6, -5.22, -24.8, -1.16, -5.72, -20.59, -1.67, -4.54], [61.0, 50.0, 69.0, 91.0, 73.0, 105.0, 111.0, 27.0, 59.0, 53.31, 1.23, 28.56, 7.9, -47.15, -43.27, -32.78, 4.14, -1.6, -19.78, -2.69, -7.74, -20.33, -1.58, -6.46, -20.89, -3.9, -6.68], [55.0, 30.0, 53.0, 86.0, 52.0, 94.0, 69.0, 28.0, 61.0, 56.56, 20.7, 44.65, 7.51, -24.94, -30.2, 5.07, 1.4, -5.0, -25.66, 1.02, -3.15, -22.19, 0.65, -2.84, -19.5, 1.1, -2.77], [68.0, 28.0, 54.0, 110.0, 50.0, 98.0, 95.0, 27.0, 64.0, 40.75, 22.88, 43.75, -17.2, -23.37, -34.37, -29.05, 1.39, -9.84, -14.24, -0.7, -3.01, -16.95, -0.94, -5.06, -7.59, 0.24, -2.12], [57.0, 55.0, 71.0, 102.0, 70.0, 108.0, 126.0, 27.0, 59.0, 58.55, -2.97, 27.12, 0.95, -44.02, -45.8, -45.99, 3.78, -1.9, -22.16, -2.01, -4.88, -23.59, -1.0, -5.59, -22.3, -3.61, -6.71], [74.0, 30.0, 57.0, 109.0, 50.0, 98.0, 88.0, 28.0, 64.0, 37.75, 20.63, 40.63, -16.73, -22.13, -33.5, -11.88, 2.12, -6.53, -20.83, 0.19, -3.08, -18.88, -1.56, -5.22, -19.58, -0.54, -5.02], [66.0, 78.0, 101.0, 106.0, 73.0, 114.0, 112.0, 36.0, 73.0, 48.08, -26.47, -2.61, -7.11, -47.11, -52.05, -33.92, -5.12, -15.77, -19.12, -2.7, -8.21, -19.17, -1.41, -6.24, -20.34, -3.67, -6.73], [50.0, 39.0, 62.0, 108.0, 55.0, 101.0, 95.0, 26.0, 58.0, 65.11, 11.94, 35.26, -8.07, -28.99, -38.74, -17.55, 3.12, -2.71, -20.94, -1.65, -4.94, -24.67, -1.08, -5.59, -20.79, -1.81, -4.77], [50.0, 51.0, 73.0, 78.0, 61.0, 98.0, 89.0, 25.0, 55.0, 63.42, 0.86, 26.07, 21.02, -35.17, -36.07, -11.53, 5.7, 2.03, -19.05, -2.81, -8.65, -19.11, -1.28, -6.17, -19.51, -3.16, -6.28], [45.0, 39.0, 60.0, 105.0, 60.0, 106.0, 98.0, 27.0, 57.0, 68.12, 11.67, 37.47, -8.42, -33.88, -43.58, -23.51, 1.91, -1.94, -18.76, -1.01, -5.0, -23.14, -1.09, -5.18, -17.79, -1.24, -3.77], [45.0, 39.0, 61.0, 108.0, 57.0, 108.0, 74.0, 27.0, 57.0, 66.82, 11.67, 36.64, -14.65, -29.79, -44.06, 1.0, 2.56, -0.69, -19.71, -0.04, -2.99, -19.55, -1.25, -5.1, -18.0, -0.41, -4.04], [57.0, 28.0, 49.0, 96.0, 48.0, 92.0, 78.0, 25.0, 57.0, 57.71, 23.08, 48.15, 4.48, -22.06, -29.98, -0.94, 4.47, -1.44, -21.93, -2.47, -4.86, -24.79, -1.08, -5.86, -21.44, -2.33, -5.94], [67.0, 75.0, 95.0, 92.0, 84.0, 120.0, 81.0, 53.0, 86.0, 44.85, -24.28, 2.59, 3.77, -57.73, -57.22, -7.92, -24.11, -30.97, -15.64, -0.66, -2.3, -17.71, -0.63, -4.03, -13.26, -0.37, -2.91], [68.0, 28.0, 54.0, 104.0, 50.0, 96.0, 90.0, 28.0, 61.0, 43.51, 22.74, 43.62, -8.54, -23.66, -33.1, -17.25, 0.91, -5.93, -10.26, -0.57, -1.7, -5.4, 0.47, -1.36, -5.61, 0.26, -1.67], [49.0, 46.0, 67.0, 105.0, 57.0, 100.0, 91.0, 25.0, 55.0, 66.99, 5.85, 30.25, -1.41, -31.14, -38.09, -10.45, 5.72, 1.95, -21.31, -2.11, -4.91, -24.32, -0.98, -5.5, -22.41, -3.16, -6.14], [56.0, 50.0, 68.0, 80.0, 70.0, 100.0, 107.0, 27.0, 60.0, 57.8, 0.42, 27.5, 17.38, -44.61, -39.56, -29.18, 3.46, -3.55, -20.35, -2.13, -6.8, -17.57, -1.01, -5.12, -18.96, -2.67, -5.4], [61.0, 77.0, 108.0, 83.0, 69.0, 103.0, 93.0, 24.0, 55.0, 52.95, -25.29, -10.87, 17.17, -43.39, -41.79, -14.73, 6.75, 1.92, -20.65, -2.35, -6.66, -20.22, -1.02, -5.55, -20.42, -2.64, -5.72], [82.0, 29.0, 54.0, 111.0, 51.0, 97.0, 107.0, 26.0, 63.0, 34.5, 22.56, 44.5, -3.92, -24.34, -32.79, -24.15, 3.4, -6.89, -22.53, -1.87, -6.47, -31.02, -1.97, -8.14, -26.03, -1.92, -5.32], [63.0, 70.0, 92.0, 90.0, 87.0, 129.0, 103.0, 70.0, 109.0, 49.2, -19.21, 5.67, 4.24, -60.53, -66.15, -28.98, -40.84, -53.53, -18.39, -0.31, -2.56, -19.41, -0.83, -4.3, -16.09, -0.47, -3.3], [54.0, 57.0, 78.0, 77.0, 69.0, 100.0, 97.0, 26.0, 56.0, 59.42, -6.75, 16.98, 20.55, -43.64, -39.73, -19.71, 4.32, 0.25, -20.22, -2.26, -6.65, -16.47, -0.87, -4.77, -17.49, -2.54, -5.28], [40.0, 38.0, 59.0, 114.0, 55.0, 105.0, 87.0, 26.0, 58.0, 72.56, 12.78, 38.64, -19.42, -28.75, -42.52, -13.05, 3.04, -2.75, -17.76, -0.34, -2.13, -18.94, -0.7, -3.92, -15.38, -0.48, -3.04], [58.0, 52.0, 68.0, 105.0, 65.0, 107.0, 107.0, 27.0, 56.0, 55.13, -1.67, 28.04, -8.2, -39.47, -46.19, -32.33, 1.79, -1.24, -18.53, -0.61, -3.43, -22.41, -0.74, -4.09, -17.44, -1.16, -3.56], [62.0, 27.0, 51.0, 92.0, 47.0, 87.0, 89.0, 25.0, 57.0, 51.04, 22.96, 43.38, 4.66, -21.76, -27.07, -12.25, 5.2, -0.93, -19.84, -2.99, -6.22, -11.07, -0.31, -3.64, -14.2, -2.67, -5.79], [53.0, 27.0, 49.0, 87.0, 50.0, 90.0, 71.0, 25.0, 55.0, 62.14, 24.28, 48.07, 15.31, -24.29, -28.36, 7.09, 4.66, 0.71, -24.07, -2.26, -5.76, -31.75, -1.61, -6.74, -24.89, -2.85, -5.98], [82.0, 29.0, 55.0, 117.0, 50.0, 98.0, 101.0, 26.0, 63.0, 34.21, 21.21, 42.36, -16.84, -24.14, -35.64, -21.67, 2.64, -7.93, -19.7, 0.08, -1.2, -24.43, -0.73, -4.36, -20.41, -0.49, -3.02], [63.0, 50.0, 69.0, 97.0, 73.0, 109.0, 101.0, 28.0, 60.0, 52.84, 0.23, 28.34, 1.38, -47.16, -46.81, -23.35, 0.74, -4.99, -19.85, -0.03, -1.79, -23.22, -0.79, -4.45, -19.2, -0.67, -3.12], [54.0, 48.0, 67.0, 115.0, 59.0, 105.0, 118.0, 28.0, 62.0, 59.86, 2.61, 30.47, -19.76, -33.06, -43.07, -43.23, 0.92, -6.95, -17.12, -0.03, -0.29, -19.08, -0.62, -3.35, -15.45, -0.57, -2.67], [60.0, 62.0, 85.0, 101.0, 73.0, 115.0, 96.0, 37.0, 73.0, 52.89, -11.6, 10.43, -2.35, -47.73, -54.87, -21.37, -7.74, -17.87, -17.73, -0.76, -3.36, -23.32, -0.69, -3.76, -17.22, -1.81, -4.13], [54.0, 53.0, 72.0, 81.0, 70.0, 102.0, 106.0, 27.0, 58.0, 58.17, -2.54, 22.6, 17.15, -44.68, -41.98, -29.34, 3.46, -1.58, -22.54, -0.07, -4.62, -19.2, -0.84, -5.06, -20.79, -0.45, -3.33], [70.0, 28.0, 54.0, 113.0, 52.0, 100.0, 88.0, 25.0, 63.0, 44.55, 22.46, 43.37, -17.31, -26.17, -38.22, -12.66, 3.85, -8.02, -4.81, 0.97, 2.27, -8.54, -0.2, -0.04, -7.13, -0.3, -0.14], [56.0, 51.0, 69.0, 88.0, 64.0, 104.0, 102.0, 25.0, 54.0, 60.28, 0.4, 27.6, 15.16, -38.42, -42.68, -21.99, 5.34, 2.49, -21.91, -1.71, -5.25, -25.52, -0.89, -5.42, -22.17, -2.48, -5.39], [51.0, 31.0, 55.0, 80.0, 52.0, 90.0, 82.0, 25.0, 56.0, 61.3, 19.77, 39.83, 18.77, -26.64, -29.83, -5.14, 5.55, 0.5, -30.77, 1.99, -4.54, -18.81, -0.66, -5.85, -27.83, 0.87, -1.31], [63.0, 28.0, 52.0, 98.0, 50.0, 92.0, 83.0, 26.0, 58.0, 54.28, 23.18, 44.35, 6.5, -24.48, -30.8, -2.27, 4.45, -1.41, -22.1, -1.58, -5.35, -23.97, -0.33, -4.81, -19.99, -2.05, -4.61], [85.0, 34.0, 59.0, 112.0, 58.0, 99.0, 115.0, 26.0, 63.0, 27.51, 24.99, 40.0, 4.59, -31.54, -37.01, -30.67, 8.66, -3.25, -18.02, -8.8, -8.47, -35.97, -1.72, -6.05, -24.83, -5.74, -7.57], [93.0, 29.0, 56.0, 126.0, 49.0, 96.0, 121.0, 26.0, 64.0, 29.98, 20.91, 40.27, -12.35, -23.55, -33.83, -32.69, 2.88, -8.85, -28.72, 0.11, -5.31, -34.61, -0.8, -6.36, -29.4, -0.32, -3.21], [53.0, 29.0, 51.0, 87.0, 49.0, 92.0, 66.0, 24.0, 56.0, 60.98, 21.63, 46.37, 7.84, -23.27, -30.63, 8.61, 4.88, -1.07, -26.56, 0.74, -3.67, -28.71, -0.29, -4.33, -22.42, -0.38, -3.74], [52.0, 49.0, 67.0, 54.0, 53.0, 87.0, 62.0, 52.0, 79.0, 60.6, 0.08, 25.76, 40.82, -28.08, -28.07, 14.3, -22.3, -23.61, -19.63, -1.72, -5.0, -18.12, -1.28, -4.96, -16.85, -1.57, -4.05], [44.0, 37.0, 59.0, 94.0, 59.0, 100.0, 88.0, 24.0, 53.0, 71.57, 14.27, 37.03, 8.39, -33.57, -39.26, -8.76, 6.48, 3.51, -20.89, -1.61, -4.59, -24.65, -0.79, -4.8, -20.83, -2.45, -5.22], [66.0, 28.0, 54.0, 104.0, 48.0, 95.0, 84.0, 25.0, 59.0, 40.59, 21.57, 39.57, -15.93, -22.86, -36.13, -14.09, 4.5, -3.78, -15.55, -0.16, -4.34, -10.57, -1.0, -4.31, -12.37, -0.26, -2.81], [85.0, 30.0, 56.0, 118.0, 50.0, 96.0, 106.0, 26.0, 60.0, 33.5, 20.5, 40.5, -11.9, -24.5, -34.9, -21.75, 4.41, -2.73, -23.99, -0.42, -5.54, -27.39, -0.92, -5.39, -25.36, -1.81, -5.29], [53.0, 40.0, 61.0, 92.0, 60.0, 99.0, 101.0, 25.0, 56.0, 62.25, 11.25, 34.92, 10.02, -34.6, -38.37, -22.1, 5.47, 0.49, -20.32, -1.59, -4.27, -24.22, -0.8, -4.69, -20.42, -2.48, -5.21], [45.0, 43.0, 62.0, 96.0, 63.0, 101.0, 90.0, 30.0, 65.0, 63.77, 6.03, 31.53, -7.27, -38.71, -43.91, -23.74, -1.89, -11.44, -16.33, 0.63, -2.7, -17.18, -0.2, -1.83, -11.33, -0.95, -2.64], [61.0, 59.0, 77.0, 99.0, 73.0, 111.0, 105.0, 35.0, 73.0, 52.61, -8.27, 20.31, -5.01, -47.45, -50.12, -31.09, -6.15, -18.15, -19.07, -0.19, -2.64, -20.29, -0.49, -3.32, -16.19, -0.65, -3.04], [56.0, 69.0, 91.0, 93.0, 96.0, 136.0, 74.0, 54.0, 90.0, 59.92, -17.71, 5.0, 9.94, -70.58, -75.28, 5.65, -23.42, -33.37, -20.87, -1.07, -4.62, -23.83, -0.66, -4.56, -20.6, -2.14, -4.74], [56.0, 26.0, 51.0, 107.0, 49.0, 91.0, 78.0, 23.0, 55.0, 51.23, 22.69, 42.15, -29.06, -25.75, -35.68, -19.37, 3.39, -3.74, -17.84, 0.77, -2.66, -10.48, 0.44, -0.97, -6.78, 0.48, -0.72], [49.0, 27.0, 50.0, 85.0, 49.0, 91.0, 65.0, 23.0, 54.0, 58.62, 21.76, 43.21, -1.72, -25.3, -35.1, -3.05, 4.3, -1.53, -23.95, 0.32, -2.86, -23.43, -0.83, -3.49, -15.86, -0.71, -2.71], [82.0, 30.0, 56.0, 118.0, 49.0, 94.0, 105.0, 26.0, 63.0, 36.99, 20.9, 40.3, -15.88, -23.41, -32.41, -23.97, 3.9, -6.65, -24.65, -0.95, -6.21, -22.79, -1.07, -6.0, -21.83, -1.07, -4.27], [61.0, 50.0, 68.0, 103.0, 65.0, 107.0, 101.0, 27.0, 57.0, 53.47, 1.29, 28.19, -1.98, -39.57, -46.55, -23.48, 3.19, -0.91, -15.52, -1.46, -2.77, -21.1, -0.83, -3.8, -16.41, -2.26, -4.5], [59.0, 56.0, 75.0, 88.0, 77.0, 107.0, 114.0, 26.0, 58.0, 56.68, -4.84, 20.71, 12.76, -51.62, -46.43, -35.29, 4.84, -1.16, -23.36, -1.58, -6.44, -23.72, -1.08, -5.63, -21.05, -1.95, -4.79], [78.0, 29.0, 55.0, 119.0, 49.0, 97.0, 99.0, 26.0, 63.0, 40.85, 20.57, 41.14, -21.66, -23.44, -35.44, -18.66, 3.28, -6.66, -25.73, -1.05, -8.27, -21.08, -1.69, -7.25, -21.45, -1.02, -4.65], [55.0, 58.0, 81.0, 97.0, 77.0, 121.0, 85.0, 38.0, 71.0, 56.46, -7.94, 14.45, -5.31, -51.94, -61.81, -13.99, -9.3, -16.49, -16.3, -0.04, -2.15, -16.69, -0.43, -2.48, -13.21, -0.98, -3.09], [92.0, 56.0, 83.0, 172.0, 58.0, 110.0, 97.0, 82.0, 108.0, 20.01, -7.05, 9.35, -77.01, -33.18, -51.38, -21.07, -52.0, -52.4, -19.16, -0.82, -4.46, -18.93, -1.08, -4.44, -16.63, -1.5, -3.74], [68.0, 76.0, 89.0, 111.0, 82.0, 123.0, 121.0, 35.0, 74.0, 44.09, -25.64, 7.07, -18.54, -56.8, -63.39, -49.08, -6.17, -19.31, -16.76, -0.27, -2.29, -17.49, -0.54, -2.75, -14.02, -1.07, -3.24], [60.0, 27.0, 49.0, 95.0, 47.0, 88.0, 69.0, 23.0, 53.0, 53.52, 22.68, 45.27, 1.42, -21.82, -28.12, 8.0, 7.65, 3.6, -19.52, -2.97, -7.33, -26.02, -2.03, -6.91, -19.2, -4.02, -6.92], [84.0, 32.0, 57.0, 118.0, 50.0, 95.0, 100.0, 25.0, 62.0, 33.66, 18.0, 37.72, -19.39, -24.56, -34.28, -19.4, 9.46, -1.65, -24.05, -1.6, -6.96, -22.45, -1.61, -6.4, -21.33, -6.33, -8.76], [58.0, 27.0, 51.0, 95.0, 49.0, 94.0, 68.0, 23.0, 55.0, 55.51, 24.66, 47.4, -1.75, -23.56, -33.53, 6.22, 5.97, -0.1, -19.98, -2.27, -4.94, -23.41, -1.46, -4.69, -16.93, -1.5, -4.21], [57.0, 54.0, 70.0, 79.0, 74.0, 101.0, 94.0, 26.0, 56.0, 55.34, -5.6, 21.35, 15.23, -49.23, -42.72, -17.69, 3.63, -0.94, -21.1, -0.3, -4.11, -19.65, -1.11, -4.4, -17.92, -0.46, -2.75], [63.0, 53.0, 74.0, 98.0, 77.0, 113.0, 77.0, 39.0, 68.0, 51.01, -1.64, 21.35, 3.4, -51.68, -52.8, 0.55, -8.36, -11.49, -17.77, -1.08, -3.27, -22.03, -0.7, -4.09, -17.92, -2.13, -4.52], [80.0, 29.0, 54.0, 119.0, 50.0, 95.0, 101.0, 24.0, 60.0, 33.33, 22.28, 42.05, -19.36, -24.69, -35.02, -25.24, 6.32, -3.92, 5.13, -1.35, -1.41, 1.88, -0.53, -0.94, 3.67, -1.26, -1.35], [59.0, 29.0, 52.0, 97.0, 52.0, 98.0, 74.0, 25.0, 57.0, 54.5, 22.78, 46.58, -3.71, -26.53, -37.49, 0.42, 3.99, -2.07, -18.07, 0.17, -1.16, -19.03, -0.07, -2.62, -13.87, -0.24, -2.22], [56.0, 46.0, 66.0, 115.0, 61.0, 106.0, 101.0, 27.0, 57.0, 57.12, 5.15, 31.51, -21.93, -35.63, -45.83, -27.83, 1.93, -2.18, -17.92, -0.96, -3.2, -18.52, -0.72, -3.33, -15.31, -1.14, -3.41], [53.0, 47.0, 66.0, 107.0, 65.0, 107.0, 104.0, 27.0, 57.0, 58.86, 3.51, 29.42, -10.69, -39.99, -47.89, -31.4, 2.68, -1.68, -14.94, -0.47, -2.51, -18.73, -0.53, -2.75, -13.14, -1.92, -3.85], [61.0, 67.0, 90.0, 93.0, 92.0, 131.0, 85.0, 56.0, 96.0, 52.6, -15.13, 8.69, 0.39, -66.51, -70.45, -10.4, -26.99, -41.04, -20.0, -0.72, -2.33, -20.65, -0.46, -3.13, -16.9, -0.73, -3.04], [73.0, 35.0, 61.0, 108.0, 56.0, 95.0, 109.0, 25.0, 59.0, 35.75, 21.0, 34.25, 3.24, -30.75, -36.25, -35.69, 10.83, 2.1, -14.22, -6.02, -4.77, -32.81, -0.8, -3.27, -14.72, -7.07, -9.18], [98.0, 89.0, 107.0, 152.0, 67.0, 115.0, 114.0, 46.0, 85.0, 15.14, -37.5, -12.28, -51.16, -41.72, -55.12, -37.02, -14.94, -28.14, -18.38, -1.78, -4.85, -22.4, -0.94, -4.61, -18.01, -2.31, -4.97], [79.0, 30.0, 55.0, 111.0, 49.0, 94.0, 92.0, 24.0, 59.0, 30.42, 19.4, 38.67, -17.98, -23.88, -34.21, -15.68, 6.22, -2.75, -14.18, -1.46, -5.8, -16.22, -1.41, -5.43, -15.41, -2.38, -4.89], [55.0, 50.0, 66.0, 106.0, 63.0, 100.0, 114.0, 26.0, 59.0, 58.34, 1.44, 29.11, -4.81, -37.62, -39.86, -36.84, 4.73, -2.55, -18.13, -0.9, -2.73, -22.85, -0.77, -4.14, -19.04, -2.3, -4.61], [55.0, 47.0, 66.0, 100.0, 61.0, 106.0, 92.0, 25.0, 56.0, 58.65, 4.83, 32.53, -6.95, -35.66, -45.87, -18.05, 4.03, -1.1, -18.45, -1.31, -3.94, -18.22, -0.67, -3.28, -15.49, -1.13, -3.36], [69.0, 27.0, 51.0, 101.0, 47.0, 88.0, 79.0, 23.0, 54.0, 41.93, 21.73, 41.24, -7.52, -22.18, -29.38, -3.61, 6.71, 1.3, -9.39, -1.92, -3.74, -11.79, -1.31, -3.24, -8.18, -2.25, -4.41], [71.0, 65.0, 85.0, 100.0, 81.0, 121.0, 120.0, 35.0, 73.0, 41.86, -13.07, 13.72, -7.37, -55.67, -60.87, -45.74, -6.05, -18.19, -19.74, -1.1, -3.55, -20.74, -0.64, -3.31, -17.51, -1.09, -3.32], [81.0, 98.0, 125.0, 117.0, 90.0, 129.0, 89.0, 46.0, 76.0, 28.79, -50.31, -34.91, -25.59, -65.59, -71.75, -14.35, -16.71, -21.35, -16.7, 0.26, -2.5, -15.87, -0.79, -3.25, -14.96, -0.71, -2.72], [67.0, 31.0, 55.0, 102.0, 47.0, 89.0, 81.0, 23.0, 56.0, 36.04, 16.24, 34.0, -21.83, -23.89, -34.25, -13.77, 5.9, -2.28, -8.26, 0.54, -1.29, -3.51, 0.51, -0.59, -6.17, -0.81, -2.1], [61.0, 65.0, 83.0, 144.0, 58.0, 110.0, 139.0, 38.0, 76.0, 52.32, -13.22, 13.44, -44.13, -32.56, -49.8, -62.74, -7.4, -19.77, -15.81, -1.77, -2.89, -20.61, -1.02, -4.11, -16.34, -2.58, -4.78], [105.0, 160.0, 196.0, 131.0, 65.0, 109.0, 96.0, 40.0, 75.0, 7.66, -112.6, -106.12, -38.71, -40.47, -51.39, -19.3, -10.79, -20.43, -25.7, 0.7, -3.87, -22.34, -1.05, -4.52, -20.14, 2.24, -0.53], [58.0, 51.0, 67.0, 94.0, 65.0, 101.0, 111.0, 26.0, 56.0, 53.47, -1.53, 26.13, 2.01, -39.93, -41.94, -36.52, 4.14, -0.25, -17.32, 0.19, -3.26, -18.41, -0.82, -3.93, -15.67, -1.23, -3.91], [68.0, 27.0, 51.0, 100.0, 46.0, 87.0, 77.0, 23.0, 54.0, 43.73, 21.07, 39.75, -6.72, -21.35, -29.09, -1.87, 6.36, 0.74, -11.73, -1.81, -3.62, -14.88, -1.37, -4.35, -8.78, -2.34, -4.16], [62.0, 65.0, 90.0, 97.0, 85.0, 126.0, 92.0, 47.0, 83.0, 52.44, -12.71, 9.16, -2.96, -59.82, -66.06, -17.38, -17.95, -28.17, -19.07, -1.45, -4.35, -18.69, -0.58, -3.21, -16.36, -1.17, -3.39], [80.0, 29.0, 56.0, 114.0, 48.0, 92.0, 100.0, 25.0, 59.0, 34.37, 19.62, 37.23, -15.09, -23.14, -32.15, -23.54, 4.05, -4.41, -19.84, 1.56, -2.46, -20.46, -0.39, -4.35, -17.99, 0.11, -2.44], [63.0, 71.0, 95.0, 100.0, 87.0, 130.0, 79.0, 43.0, 77.0, 52.16, -18.5, 4.5, -4.83, -61.78, -69.99, -3.44, -13.77, -21.94, -19.55, -1.78, -4.91, -19.38, -0.6, -3.39, -17.04, -1.36, -3.63], [54.0, 33.0, 59.0, 78.0, 48.0, 87.0, 62.0, 23.0, 52.0, 58.71, 14.08, 30.44, 13.54, -23.59, -29.65, 14.77, 6.1, 2.36, -32.95, 1.42, -3.59, -29.02, -1.09, -5.37, -23.56, 4.26, 2.82], [64.0, 54.0, 71.0, 116.0, 63.0, 104.0, 127.0, 26.0, 59.0, 48.88, -2.53, 24.02, -14.78, -37.54, -43.87, -49.9, 5.12, -2.25, -17.76, -1.11, -2.88, -23.46, -0.93, -4.33, -19.48, -2.8, -5.18], [63.0, 68.0, 87.0, 115.0, 75.0, 120.0, 92.0, 42.0, 76.0, 51.09, -16.18, 10.95, -17.15, -49.64, -59.83, -16.63, -11.81, -20.05, -16.8, -1.61, -3.96, -19.47, -0.89, -3.82, -15.76, -2.4, -4.61], [72.0, 29.0, 56.0, 110.0, 48.0, 92.0, 94.0, 24.0, 59.0, 40.64, 19.45, 36.64, -17.29, -23.62, -34.17, -19.22, 5.13, -3.64, -19.15, 0.95, -3.0, -16.37, -0.33, -3.11, -15.9, 0.02, -3.22], [70.0, 29.0, 55.0, 106.0, 51.0, 93.0, 100.0, 25.0, 60.0, 37.74, 20.73, 38.36, -3.9, -25.2, -32.46, -32.17, 3.8, -6.0, -13.94, -0.55, -4.11, -25.68, -1.82, -5.91, -8.59, 0.14, -1.97], [81.0, 28.0, 52.0, 116.0, 46.0, 90.0, 91.0, 23.0, 57.0, 31.9, 18.86, 37.19, -26.1, -21.85, -32.95, -12.87, 5.79, -3.06, -25.17, 0.95, -3.19, -19.72, -0.76, -4.0, -21.24, 2.24, -0.37], [70.0, 29.0, 54.0, 114.0, 47.0, 89.0, 98.0, 25.0, 58.0, 45.73, 18.0, 36.15, -16.48, -22.26, -31.1, -18.38, 3.84, -3.31, -21.74, 0.95, -2.44, -21.3, -1.11, -3.8, -19.31, -0.56, -2.94], [78.0, 29.0, 53.0, 118.0, 48.0, 89.0, 101.0, 25.0, 58.0, 39.97, 19.0, 37.0, -18.9, -23.17, -31.0, -23.6, 3.74, -4.54, -23.56, 0.22, -2.02, -22.3, -1.09, -3.67, -16.88, -0.4, -1.67], [41.0, 40.0, 64.0, 85.0, 57.0, 96.0, 76.0, 23.0, 51.0, 70.52, 10.55, 29.79, 14.21, -31.69, -36.4, 0.11, 7.68, 5.21, -17.35, -0.48, -2.83, -22.33, -0.95, -4.31, -18.8, -2.06, -4.6], [45.0, 27.0, 49.0, 84.0, 49.0, 94.0, 60.0, 24.0, 55.0, 65.81, 24.74, 49.47, 6.34, -23.89, -34.36, 13.07, 4.73, -0.59, -26.97, -2.31, -5.66, -28.97, -1.42, -5.21, -26.09, -2.34, -4.84], [72.0, 28.0, 54.0, 109.0, 51.0, 97.0, 85.0, 25.0, 60.0, 37.56, 23.6, 44.36, -23.01, -26.08, -37.6, -14.33, 3.25, -6.38, -19.1, -0.61, -5.03, -16.02, -0.63, -3.48, -16.77, -1.15, -2.87], [56.0, 49.0, 69.0, 113.0, 63.0, 111.0, 109.0, 26.0, 58.0, 59.11, 4.04, 31.19, -15.32, -37.68, -50.91, -33.39, 4.44, -1.93, -18.84, -2.85, -5.54, -19.9, -0.9, -4.05, -16.65, -2.57, -4.89], [51.0, 53.0, 72.0, 88.0, 74.0, 111.0, 64.0, 39.0, 67.0, 61.26, -1.41, 23.57, 11.49, -48.59, -51.07, 11.6, -8.03, -10.57, -17.89, -0.82, -1.82, -21.4, -0.66, -3.75, -19.55, -3.05, -5.48], [57.0, 55.0, 73.0, 93.0, 72.0, 107.0, 99.0, 26.0, 57.0, 54.69, -5.93, 18.93, 1.62, -47.02, -48.44, -24.12, 3.51, -2.24, -18.23, 0.17, -2.02, -17.9, -0.94, -3.75, -15.88, -0.27, -2.59], [59.0, 53.0, 71.0, 110.0, 63.0, 107.0, 96.0, 26.0, 56.0, 52.6, -1.14, 27.58, -18.42, -37.92, -47.37, -21.79, 2.79, -1.47, -21.61, -0.9, -5.3, -22.3, -0.82, -3.78, -20.86, -1.76, -3.86], [78.0, 30.0, 56.0, 107.0, 50.0, 93.0, 84.0, 24.0, 57.0, 28.5, 19.5, 36.5, -23.34, -24.99, -35.98, -6.17, 6.02, -1.04, -12.8, 0.84, -2.32, -6.14, -0.41, -1.18, -18.9, 0.64, -3.3], [52.0, 59.0, 88.0, 95.0, 97.0, 136.0, 63.0, 55.0, 80.0, 63.49, -6.16, 11.9, 0.18, -71.86, -76.09, 13.49, -25.72, -24.92, -20.18, -1.11, -4.22, -18.82, -0.56, -3.14, -17.77, -1.37, -3.61], [52.0, 26.0, 48.0, 97.0, 50.0, 95.0, 85.0, 25.0, 58.0, 59.92, 25.56, 47.64, 2.14, -24.66, -35.15, -9.91, 5.63, -1.92, -17.13, -0.57, -0.84, -14.69, 0.24, -1.69, -21.44, -2.83, -6.45], [83.0, 28.0, 54.0, 119.0, 47.0, 92.0, 97.0, 25.0, 58.0, 35.13, 19.08, 36.0, -21.66, -22.54, -34.77, -15.03, 3.64, -4.34, -24.81, 0.01, -3.09, -22.39, -1.2, -3.83, -22.61, -1.07, -2.47], [58.0, 30.0, 52.0, 93.0, 49.0, 91.0, 72.0, 24.0, 56.0, 48.54, 20.88, 41.12, -0.35, -23.63, -32.4, 1.8, 6.38, -0.52, -14.04, -2.58, -4.12, -18.42, -1.05, -2.99, -13.19, 0.48, -3.01], [54.0, 26.0, 49.0, 87.0, 44.0, 84.0, 66.0, 22.0, 51.0, 59.69, 21.36, 41.34, 5.85, -19.49, -26.53, 11.46, 7.05, 3.43, -26.07, -2.71, -5.96, -27.46, -2.55, -6.69, -22.5, -1.91, -4.68], [54.0, 27.0, 51.0, 87.0, 53.0, 91.0, 72.0, 25.0, 55.0, 57.61, 23.97, 43.95, 12.4, -27.69, -31.23, 3.35, 5.42, 0.91, -19.67, 0.45, -4.2, -27.26, -0.23, -5.13, -18.94, -2.92, -5.16], [60.0, 28.0, 48.0, 102.0, 45.0, 86.0, 80.0, 24.0, 53.0, 53.88, 18.75, 41.97, -10.94, -20.8, -29.54, -3.19, 4.36, 0.52, -15.47, -1.13, -3.15, -13.56, -1.02, -3.55, -16.54, -2.34, -4.27], [60.0, 46.0, 73.0, 114.0, 69.0, 116.0, 92.0, 29.0, 63.0, 55.13, 6.6, 26.39, -19.22, -43.95, -56.32, -15.33, 0.09, -8.1, -21.34, -0.46, -3.55, -20.09, -0.56, -3.17, -19.49, -1.32, -3.74], [57.0, 35.0, 59.0, 94.0, 66.0, 102.0, 90.0, 32.0, 67.0, 50.24, 19.42, 36.3, 1.83, -40.01, -41.65, -15.77, -1.24, -11.63, -11.34, 12.46, 7.37, -3.82, 3.44, 3.94, -16.84, 8.84, 7.79], [72.0, 30.0, 55.0, 99.0, 49.0, 92.0, 89.0, 23.0, 57.0, 28.4, 19.5, 36.63, -8.66, -24.23, -34.49, -27.7, 7.03, -2.78, -6.65, 1.35, -0.08, -12.15, -0.09, -1.59, -2.95, 0.61, -1.48], [67.0, 28.0, 52.0, 102.0, 51.0, 96.0, 84.0, 26.0, 59.0, 49.76, 26.5, 51.14, -4.07, -25.49, -35.28, -7.74, 4.59, -2.76, -16.48, -3.73, -6.58, -14.52, -0.02, -1.57, -10.8, -2.16, -4.29], [81.0, 33.0, 56.0, 109.0, 55.0, 95.0, 100.0, 26.0, 61.0, 25.86, 22.99, 40.0, -9.52, -27.78, -33.04, -24.53, 6.13, -5.33, -12.49, -0.85, 2.86, -17.39, -1.27, -3.74, -17.28, 2.12, -0.14], [65.0, 28.0, 51.0, 99.0, 49.0, 88.0, 78.0, 24.0, 54.0, 45.08, 22.3, 41.8, -4.87, -23.87, -29.23, -3.3, 5.73, 0.85, -13.94, -2.43, -4.5, -14.84, -1.29, -4.59, -13.26, -1.71, -3.74], [79.0, 27.0, 53.0, 115.0, 47.0, 92.0, 89.0, 24.0, 57.0, 34.07, 19.5, 36.89, -28.43, -23.27, -36.37, -13.44, 3.24, -4.74, -18.88, 0.11, -3.07, -11.07, -0.6, -2.42, -15.76, -0.24, -1.52], [57.0, 44.0, 67.0, 135.0, 58.0, 111.0, 112.0, 25.0, 55.0, 60.76, 10.38, 35.83, -37.67, -32.5, -50.27, -34.52, 5.02, 0.85, -22.2, -2.72, -7.0, -19.67, -1.0, -4.22, -18.81, -2.16, -4.66], [64.0, 27.0, 51.0, 99.0, 50.0, 96.0, 89.0, 26.0, 58.0, 56.23, 29.79, 55.97, 2.27, -23.27, -33.03, -10.79, 6.53, 0.32, -19.99, -6.19, -10.83, -18.34, -1.77, -5.75, -15.9, -4.67, -6.65], [47.0, 25.0, 48.0, 86.0, 46.0, 88.0, 60.0, 21.0, 50.0, 64.01, 25.77, 46.48, 12.39, -20.75, -28.49, 14.59, 9.36, 5.74, -23.82, -4.02, -6.88, -36.72, -3.27, -8.51, -27.68, -5.22, -7.36], [58.0, 58.0, 76.0, 109.0, 80.0, 121.0, 64.0, 48.0, 70.0, 59.55, -4.03, 25.95, -11.91, -54.61, -60.54, 13.63, -18.2, -14.35, -22.27, -2.19, -6.03, -19.7, -0.9, -3.99, -19.17, -1.93, -4.48], [66.0, 27.0, 50.0, 96.0, 47.0, 87.0, 78.0, 22.0, 53.0, 47.68, 20.05, 40.16, -3.84, -22.62, -30.04, -1.19, 6.81, 1.02, -17.88, -0.51, -3.03, -13.77, -2.05, -3.93, -11.3, -1.68, -3.01], [81.0, 32.0, 57.0, 120.0, 56.0, 107.0, 105.0, 28.0, 63.0, 39.6, 25.0, 50.2, -16.28, -28.61, -43.4, -26.41, 6.51, -2.69, -23.35, -6.07, -11.21, -24.13, -2.77, -7.07, -18.7, -6.65, -8.99], [40.0, 25.0, 47.0, 81.0, 49.0, 87.0, 74.0, 24.0, 55.0, 69.79, 24.89, 45.49, 13.05, -23.97, -28.46, 0.32, 5.44, -0.46, -28.43, -1.28, -5.49, -25.56, -1.42, -5.88, -27.55, -2.63, -5.26], [53.0, 67.0, 97.0, 76.0, 88.0, 130.0, 54.0, 56.0, 92.0, 64.01, -14.03, 2.69, 20.05, -63.04, -70.47, 24.33, -27.03, -37.12, -22.74, 0.14, -2.32, -20.47, -0.54, -3.14, -20.83, -1.13, -3.84], [58.0, 27.0, 49.0, 95.0, 46.0, 89.0, 81.0, 22.0, 55.0, 50.55, 23.7, 44.1, -0.59, -20.87, -30.22, -7.63, 7.6, -0.41, -13.32, -3.52, -4.35, -15.3, -1.69, -4.49, -15.93, -3.31, -5.5], [47.0, 38.0, 60.0, 121.0, 57.0, 108.0, 91.0, 25.0, 54.0, 70.75, 14.9, 39.4, -24.32, -32.09, -48.69, -11.99, 4.14, 1.06, -23.04, 0.36, -1.65, -20.31, -0.44, -2.86, -21.01, -1.15, -3.95], [50.0, 27.0, 50.0, 79.0, 45.0, 84.0, 68.0, 23.0, 54.0, 62.24, 20.9, 41.68, 15.56, -20.35, -25.68, 7.93, 6.19, 0.54, -30.47, -2.34, -7.63, -29.62, -1.71, -5.83, -26.83, -0.92, -2.18], [66.0, 29.0, 53.0, 99.0, 52.0, 96.0, 89.0, 25.0, 57.0, 51.71, 24.54, 48.11, 1.82, -26.67, -35.51, -9.96, 4.93, -1.27, -19.44, -1.27, -4.94, -15.68, -0.5, -3.61, -15.16, -1.06, -3.76], [80.0, 28.0, 54.0, 115.0, 52.0, 95.0, 93.0, 24.0, 58.0, 35.9, 23.96, 42.79, -22.48, -28.24, -38.08, -14.27, 3.82, -4.44, -20.87, 1.88, 1.84, -15.21, 0.83, -0.26, -20.32, 0.55, -2.29], [53.0, 26.0, 50.0, 91.0, 50.0, 94.0, 66.0, 22.0, 53.0, 65.03, 27.79, 51.52, 9.7, -24.66, -33.49, 13.24, 7.92, 2.75, -27.07, -3.05, -7.77, -35.23, -2.38, -7.44, -26.98, -3.24, -5.96], [89.0, 30.0, 58.0, 122.0, 54.0, 101.0, 102.0, 25.0, 59.0, 32.05, 23.21, 43.07, -20.01, -28.4, -40.46, -19.41, 5.38, -2.23, -26.01, 0.72, -2.45, -24.49, -0.96, -3.86, -24.05, -1.86, -5.44], [46.0, 28.0, 50.0, 82.0, 51.0, 90.0, 67.0, 24.0, 54.0, 67.16, 22.52, 45.32, 17.56, -25.99, -30.28, 9.21, 5.74, 1.17, -31.34, -0.8, -5.32, -40.37, -2.43, -7.94, -34.14, -3.82, -6.47], [53.0, 45.0, 66.0, 102.0, 55.0, 100.0, 89.0, 25.0, 54.0, 57.37, 4.92, 27.73, -4.26, -30.05, -41.0, -15.03, 4.47, 0.73, -19.14, -0.45, -3.55, -22.47, -0.99, -4.81, -18.85, -0.54, -3.02], [54.0, 50.0, 69.0, 101.0, 64.0, 107.0, 104.0, 26.0, 55.0, 64.92, 3.86, 32.05, -1.69, -38.85, -46.97, -23.48, 3.46, 0.47, -24.38, -0.08, -2.97, -22.39, -0.82, -3.83, -22.89, -1.58, -4.54], [61.0, 29.0, 52.0, 96.0, 55.0, 100.0, 78.0, 26.0, 57.0, 58.07, 24.23, 48.23, 2.59, -29.96, -40.32, 2.7, 3.27, -1.66, -23.97, 1.38, -1.56, -20.0, 0.21, -2.51, -21.23, 0.2, -3.25], [85.0, 29.0, 55.0, 122.0, 55.0, 103.0, 101.0, 26.0, 62.0, 34.29, 25.14, 47.14, -24.14, -29.72, -42.15, -20.86, 2.45, -7.41, -23.62, 0.21, -2.47, -19.65, -0.72, -3.93, -21.59, -0.18, -3.34], [46.0, 41.0, 61.0, 117.0, 58.0, 109.0, 86.0, 24.0, 55.0, 71.9, 12.26, 39.3, -16.21, -32.81, -48.79, -6.57, 5.65, 0.48, -23.73, -1.15, -5.57, -25.8, -1.15, -4.97, -22.48, -2.03, -4.66], [59.0, 28.0, 53.0, 95.0, 49.0, 91.0, 77.0, 23.0, 54.0, 53.27, 22.12, 41.73, 3.5, -24.11, -31.56, -1.79, 6.62, 1.01, -17.2, -1.35, -3.23, -20.21, -1.25, -6.04, -19.1, 1.25, -1.43], [76.0, 29.0, 54.0, 115.0, 49.0, 95.0, 97.0, 24.0, 60.0, 36.6, 21.0, 40.8, -17.27, -24.3, -35.1, -22.19, 5.6, -5.09, -20.95, -0.72, -3.97, -24.83, -1.08, -6.17, -20.37, -1.34, -3.89], [62.0, 27.0, 49.0, 90.0, 46.0, 86.0, 82.0, 24.0, 55.0, 49.97, 21.2, 43.67, 4.47, -21.28, -27.2, -5.54, 5.43, -0.05, -21.31, -2.03, -5.75, -12.54, -0.73, -3.09, -14.55, -1.76, -3.87], [57.0, 42.0, 61.0, 107.0, 66.0, 106.0, 101.0, 25.0, 54.0, 62.14, 11.83, 39.99, -7.93, -40.9, -46.09, -20.14, 4.31, 1.38, -24.06, 0.61, -2.21, -20.79, -0.5, -3.23, -22.28, -0.88, -4.12], [67.0, 48.0, 68.0, 110.0, 72.0, 115.0, 81.0, 34.0, 66.0, 51.87, 5.77, 33.27, -11.84, -46.93, -54.94, -0.7, -5.02, -10.97, -23.25, 0.65, -1.84, -19.67, -0.48, -3.16, -21.6, -0.63, -3.77], [53.0, 48.0, 65.0, 87.0, 60.0, 98.0, 95.0, 25.0, 54.0, 57.03, 0.61, 27.42, 8.72, -35.13, -39.23, -20.53, 4.43, 0.79, -19.23, -0.77, -5.12, -17.62, -1.03, -4.42, -16.84, -1.09, -3.24], [63.0, 29.0, 52.0, 97.0, 55.0, 101.0, 79.0, 24.0, 58.0, 55.96, 24.94, 49.71, 1.09, -29.88, -40.69, 1.18, 4.9, -3.05, -21.48, 0.56, -1.71, -17.89, -0.45, -2.56, -20.45, -0.54, -3.5], [74.0, 40.0, 61.0, 110.0, 66.0, 110.0, 111.0, 29.0, 68.0, 45.06, 14.11, 40.33, -11.05, -40.91, -50.03, -30.16, 0.21, -12.73, -23.93, 0.49, -2.37, -20.46, -0.52, -3.26, -22.27, -0.89, -4.06], [62.0, 51.0, 68.0, 99.0, 63.0, 98.0, 115.0, 27.0, 57.0, 51.45, -3.04, 25.05, -3.08, -38.33, -38.84, -36.86, 2.33, -1.87, -23.41, -1.64, -6.52, -21.62, -1.39, -5.74, -20.49, -1.22, -3.76], [51.0, 28.0, 50.0, 86.0, 45.0, 86.0, 63.0, 22.0, 50.0, 62.15, 20.37, 43.8, 9.59, -20.19, -26.36, 14.67, 7.52, 5.3, -27.2, -3.47, -8.4, -30.45, -2.53, -8.66, -23.76, -0.93, -3.17], [72.0, 77.0, 92.0, 98.0, 98.0, 125.0, 96.0, 39.0, 70.0, 41.46, -28.91, 1.47, -2.01, -73.29, -65.54, -17.56, -9.56, -14.62, -22.7, -1.8, -6.67, -20.66, -1.37, -5.89, -20.25, -1.43, -4.22], [46.0, 47.0, 72.0, 81.0, 57.0, 94.0, 88.0, 26.0, 53.0, 63.97, 1.39, 20.44, 14.62, -32.22, -35.23, -13.39, 3.47, 1.88, -20.1, -0.65, -5.92, -17.73, -0.96, -4.51, -17.3, -0.9, -3.1], [59.0, 67.0, 81.0, 85.0, 81.0, 114.0, 86.0, 38.0, 68.0, 53.11, -18.74, 12.34, 10.15, -56.22, -54.7, -9.19, -8.43, -12.76, -21.3, -1.83, -6.49, -18.61, -1.32, -5.49, -18.37, -1.65, -4.16], [54.0, 27.0, 50.0, 93.0, 46.0, 86.0, 80.0, 23.0, 53.0, 55.22, 21.5, 42.8, 5.22, -21.1, -27.14, -6.65, 6.48, 1.87, -15.61, -1.5, -5.8, -12.59, -0.69, -4.42, -12.18, -1.8, -4.45], [49.0, 38.0, 58.0, 100.0, 62.0, 108.0, 106.0, 26.0, 57.0, 70.53, 17.42, 44.9, 0.06, -36.84, -47.72, -24.47, 3.29, -1.64, -25.04, -0.83, -3.82, -22.12, -0.86, -3.97, -23.79, -1.6, -4.53], [86.0, 30.0, 57.0, 119.0, 57.0, 104.0, 101.0, 25.0, 62.0, 34.17, 26.44, 46.83, -17.7, -31.72, -43.39, -17.3, 4.11, -6.56, -25.69, -1.18, -4.63, -21.69, -0.95, -3.98, -25.36, -1.36, -4.51], [59.0, 27.0, 51.0, 94.0, 46.0, 87.0, 76.0, 24.0, 54.0, 54.98, 21.59, 43.47, 2.57, -20.98, -26.45, 3.47, 5.56, 1.78, -20.44, -1.91, -5.9, -20.01, -1.26, -5.56, -19.57, -1.7, -5.04], [59.0, 28.0, 51.0, 93.0, 57.0, 98.0, 86.0, 26.0, 59.0, 60.96, 28.2, 52.66, 7.43, -31.79, -37.53, -3.45, 3.19, -3.64, -25.47, -0.24, -4.57, -18.6, -0.96, -3.52, -23.25, -1.44, -4.28], [69.0, 72.0, 94.0, 90.0, 79.0, 120.0, 79.0, 43.0, 72.0, 43.71, -22.33, 0.06, 9.54, -54.27, -60.89, -3.23, -13.67, -17.18, -21.29, -0.48, -4.03, -28.07, -1.29, -6.06, -19.32, -0.67, -3.45], [54.0, 46.0, 73.0, 107.0, 61.0, 107.0, 97.0, 25.0, 52.0, 64.83, 7.09, 26.61, -5.23, -35.99, -47.02, -16.52, 4.26, 3.15, -24.22, 0.27, -2.29, -25.15, -0.87, -4.29, -23.19, -1.56, -4.28], [58.0, 30.0, 52.0, 91.0, 50.0, 90.0, 68.0, 23.0, 53.0, 55.28, 19.94, 42.55, 8.99, -25.21, -30.79, 8.27, 6.39, 1.89, -22.52, -0.27, -4.55, -33.18, -1.63, -7.13, -19.05, -0.53, -3.21], [85.0, 30.0, 57.0, 117.0, 49.0, 94.0, 93.0, 25.0, 60.0, 28.92, 18.69, 37.62, -20.88, -23.78, -32.93, -13.08, 4.26, -4.0, -21.87, -2.2, -6.5, -19.5, -1.68, -6.94, -20.61, -1.24, -4.91], [71.0, 29.0, 55.0, 109.0, 47.0, 93.0, 102.0, 25.0, 58.0, 37.6, 19.0, 37.6, -6.44, -22.0, -34.2, -31.39, 4.2, -3.4, -17.16, 0.25, -5.07, -23.18, -1.03, -4.48, -12.95, -0.73, -3.06], [73.0, 28.0, 53.0, 112.0, 49.0, 93.0, 98.0, 24.0, 60.0, 37.88, 20.65, 39.71, -16.52, -25.04, -34.47, -25.45, 4.18, -6.13, -19.52, 0.0, -2.98, -20.99, -0.39, -5.04, -16.54, 0.23, -2.69], [59.0, 29.0, 52.0, 94.0, 57.0, 102.0, 93.0, 26.0, 58.0, 60.47, 26.35, 50.82, 6.11, -31.85, -41.75, -11.48, 3.21, -2.7, -26.15, 2.23, -1.82, -13.57, 0.04, -2.06, -21.93, -1.31, -4.4], [51.0, 32.0, 55.0, 77.0, 45.0, 85.0, 68.0, 24.0, 52.0, 58.24, 16.19, 37.27, 19.92, -20.28, -26.25, 6.12, 5.46, 2.91, -32.24, -2.1, -8.85, -29.88, -2.04, -6.98, -25.53, 0.17, -1.84], [86.0, 28.0, 53.0, 123.0, 54.0, 99.0, 108.0, 25.0, 60.0, 34.15, 24.67, 45.96, -19.36, -29.33, -39.07, -26.6, 3.21, -5.91, -25.7, -0.06, -2.75, -27.53, -0.69, -4.67, -23.96, -0.43, -3.09], [54.0, 48.0, 66.0, 87.0, 63.0, 98.0, 123.0, 27.0, 58.0, 57.56, 1.35, 27.57, 12.04, -38.33, -39.11, -48.28, 2.17, -3.38, -20.04, -0.61, -4.32, -22.48, -0.85, -4.92, -17.98, -0.31, -2.84], [92.0, 30.0, 57.0, 121.0, 48.0, 95.0, 101.0, 24.0, 60.0, 27.79, 18.25, 37.38, -18.9, -23.19, -34.44, -12.53, 7.72, -1.44, -25.49, -1.46, -5.92, -20.99, -0.98, -5.94, -26.05, -3.18, -7.15], [53.0, 40.0, 60.0, 101.0, 59.0, 102.0, 97.0, 25.0, 54.0, 64.25, 12.01, 38.11, 1.42, -34.09, -42.35, -17.37, 4.26, 1.04, -23.67, -0.48, -4.12, -27.76, -1.14, -5.03, -23.0, -1.45, -4.09], [66.0, 28.0, 52.0, 98.0, 47.0, 88.0, 83.0, 25.0, 57.0, 51.09, 20.24, 42.22, 0.63, -22.18, -27.75, -0.59, 5.46, -0.29, -17.52, -1.06, -5.42, -9.42, -0.38, -4.25, -12.75, -1.27, -4.55], [65.0, 28.0, 52.0, 93.0, 49.0, 90.0, 74.0, 24.0, 56.0, 46.96, 21.66, 42.08, 6.71, -24.22, -31.02, 1.5, 5.36, -1.17, -20.99, -0.98, -4.89, -21.32, -0.74, -4.57, -17.49, 0.37, -1.98], [83.0, 29.0, 54.0, 120.0, 51.0, 95.0, 108.0, 25.0, 61.0, 36.19, 21.0, 42.0, -14.86, -26.2, -35.4, -24.68, 4.21, -5.81, -27.05, -0.83, -5.72, -30.5, -1.17, -5.8, -26.93, -1.03, -4.09], [56.0, 26.0, 50.0, 94.0, 50.0, 87.0, 83.0, 24.0, 54.0, 53.57, 21.97, 43.47, 2.0, -25.22, -27.11, -8.04, 5.69, 1.43, -12.99, 0.23, -5.97, -14.35, -0.55, -5.4, -14.51, -2.68, -5.15], [82.0, 30.0, 56.0, 113.0, 48.0, 94.0, 98.0, 24.0, 60.0, 29.68, 18.15, 38.23, -17.56, -23.01, -33.02, -20.34, 6.01, -3.83, -17.85, -0.83, -6.74, -15.41, -1.11, -6.7, -17.78, -2.53, -5.31], [56.0, 26.0, 51.0, 96.0, 55.0, 99.0, 72.0, 22.0, 54.0, 63.07, 28.12, 50.19, 5.71, -29.87, -38.94, 9.31, 7.35, 1.33, -22.55, 1.43, -2.64, -27.76, -2.02, -5.59, -25.3, -3.26, -5.95], [58.0, 62.0, 86.0, 85.0, 61.0, 93.0, 88.0, 24.0, 53.0, 45.29, -14.57, 5.06, 11.38, -36.43, -34.66, -18.39, 5.31, 1.53, -9.95, -0.19, -3.63, -16.56, -0.73, -4.12, -10.08, -1.78, -3.64], [55.0, 58.0, 76.0, 89.0, 84.0, 118.0, 83.0, 36.0, 69.0, 62.31, -5.84, 22.37, 13.68, -59.12, -58.43, -2.94, -6.73, -13.94, -23.2, -0.1, -3.45, -27.1, -1.0, -4.68, -22.83, -1.41, -4.02], [65.0, 28.0, 53.0, 100.0, 47.0, 90.0, 98.0, 25.0, 58.0, 35.74, 19.29, 37.57, -2.93, -22.56, -32.41, -33.15, 3.9, -4.47, -7.81, -0.18, -3.18, -17.45, -0.65, -3.4, -5.43, -1.22, -2.56], [62.0, 28.0, 51.0, 96.0, 46.0, 89.0, 87.0, 24.0, 56.0, 45.26, 19.6, 39.9, -0.36, -21.47, -30.92, -14.43, 5.45, -1.11, -12.49, -0.84, -3.09, -4.75, -0.13, -2.29, -11.45, -1.57, -4.16], [56.0, 27.0, 51.0, 93.0, 60.0, 101.0, 71.0, 24.0, 55.0, 62.77, 27.03, 50.2, 6.91, -34.9, -40.95, 9.68, 5.23, 0.24, -23.82, 2.07, -1.0, -35.11, -2.05, -6.94, -28.6, -2.97, -5.27], [58.0, 25.0, 48.0, 98.0, 46.0, 89.0, 73.0, 22.0, 53.0, 55.25, 25.26, 47.0, 3.64, -21.21, -29.95, 3.52, 7.18, 1.73, -14.78, -3.71, -5.5, -20.27, -1.61, -5.54, -14.66, -2.17, -4.37], [82.0, 29.0, 54.0, 119.0, 50.0, 98.0, 105.0, 25.0, 59.0, 34.9, 23.4, 45.0, -15.9, -25.4, -38.8, -24.31, 4.1, -4.1, -23.78, -1.23, -6.22, -28.14, -0.99, -5.08, -24.09, -1.2, -3.95], [55.0, 61.0, 90.0, 75.0, 55.0, 91.0, 84.0, 24.0, 54.0, 57.14, -13.14, 2.87, 20.93, -30.36, -31.88, -6.73, 5.47, 1.28, -20.84, -1.47, -5.72, -18.73, -1.18, -5.22, -17.81, -1.28, -3.87], [66.0, 69.0, 93.0, 90.0, 63.0, 100.0, 99.0, 25.0, 57.0, 45.97, -20.93, 0.18, 6.34, -38.24, -40.56, -21.73, 4.74, -1.5, -19.64, -1.45, -5.6, -17.03, -1.08, -5.15, -16.77, -1.46, -4.03], [79.0, 30.0, 55.0, 115.0, 51.0, 96.0, 109.0, 25.0, 59.0, 35.4, 22.19, 41.2, -3.31, -25.44, -36.8, -28.94, 5.27, -3.66, -22.4, -3.91, -6.61, -36.29, -2.13, -5.77, -23.32, -2.09, -4.13], [69.0, 27.0, 53.0, 106.0, 47.0, 90.0, 87.0, 24.0, 55.0, 35.81, 19.86, 36.67, -18.69, -23.24, -33.71, -18.59, 4.87, -0.88, -13.32, 0.16, -2.39, -7.12, 0.02, -2.06, -10.04, -0.74, -2.88], [80.0, 29.0, 55.0, 116.0, 50.0, 95.0, 102.0, 25.0, 59.0, 34.08, 21.8, 40.86, -14.76, -24.92, -35.71, -24.53, 4.0, -4.19, -21.98, -2.12, -6.03, -26.08, -1.67, -5.82, -20.91, -0.9, -3.7]]\n"
     ]
    }
   ],
   "source": [
    "print(forest_data)"
   ]
  },
  {
   "cell_type": "code",
   "execution_count": 77,
   "id": "f4ca37ca",
   "metadata": {},
   "outputs": [
    {
     "name": "stdout",
     "output_type": "stream",
     "text": [
      "[2, 1, 0, 0, 2, 1, 0, 2, 0, 3, 2, 3, 3, 2, 0, 3, 3, 2, 0, 1, 3, 2, 0, 1, 2, 1, 3, 2, 2, 2, 2, 0, 3, 0, 2, 2, 2, 1, 3, 2, 2, 2, 0, 0, 1, 2, 2, 3, 2, 0, 2, 0, 0, 1, 1, 0, 3, 2, 1, 1, 2, 3, 3, 3, 1, 0, 1, 2, 2, 1, 3, 3, 3, 0, 1, 0, 2, 3, 0, 0, 2, 2, 3, 1, 3, 1, 2, 2, 0, 3, 3, 1, 3, 3, 2, 0, 3, 1, 3, 0, 2, 3, 1, 1, 1, 1, 1, 2, 0, 1, 2, 2, 2, 2, 1, 3, 0, 1, 0, 0, 0, 0, 3, 0, 1, 0, 1, 0, 1, 2, 0, 0, 3, 0, 1, 0, 3, 0, 2, 0, 0, 1, 0, 1, 0, 2, 2, 0, 1, 2, 0, 1, 0, 2, 3, 2, 0, 3, 2, 0, 3, 2, 3, 0, 2, 1, 0, 0, 3, 2, 0, 1, 1, 1, 0, 0, 1, 2, 1, 2, 0, 0, 1, 0, 1, 0, 2, 3, 1, 0, 0, 0, 1, 2, 2, 1, 1, 1]\n"
     ]
    }
   ],
   "source": [
    "print(forest_target)"
   ]
  },
  {
   "cell_type": "code",
   "execution_count": 89,
   "id": "ecaa6a0d",
   "metadata": {},
   "outputs": [],
   "source": [
    "#build decision tree 1\n",
    "from sklearn import tree\n",
    "clf=tree.DecisionTreeClassifier(max_depth=3)\n",
    "clf=clf.fit(forest_data,forest_target)\n",
    "\n"
   ]
  },
  {
   "cell_type": "code",
   "execution_count": 90,
   "id": "2b3aff30",
   "metadata": {},
   "outputs": [
    {
     "data": {
      "text/plain": [
       "'T_Forest_Gini_Max_depth3.pdf'"
      ]
     },
     "execution_count": 90,
     "metadata": {},
     "output_type": "execute_result"
    }
   ],
   "source": [
    "#plot decision tree\n",
    "import graphviz\n",
    "dot_data = tree.export_graphviz(clf,out_file=None,\n",
    "                               feature_names=forest_feature_names,\n",
    "                               class_names=forest_target_names,\n",
    "                               filled=True,\n",
    "                               rounded=True,\n",
    "                               special_characters=True)\n",
    "graph=graphviz.Source(dot_data)\n",
    "\n",
    "graph.render('T_Forest_Gini_Max_depth3', view=True)"
   ]
  },
  {
   "cell_type": "code",
   "execution_count": 39,
   "id": "091b467d",
   "metadata": {},
   "outputs": [
    {
     "ename": "AttributeError",
     "evalue": "'numpy.ndarray' object has no attribute 'forest_target_names'",
     "output_type": "error",
     "traceback": [
      "\u001b[1;31m---------------------------------------------------------------------------\u001b[0m",
      "\u001b[1;31mAttributeError\u001b[0m                            Traceback (most recent call last)",
      "Cell \u001b[1;32mIn[39], line 5\u001b[0m\n\u001b[0;32m      3\u001b[0m forestTest\u001b[38;5;241m=\u001b[39m np\u001b[38;5;241m.\u001b[39marray(forest_data)\n\u001b[0;32m      4\u001b[0m prediction\u001b[38;5;241m=\u001b[39m clf\u001b[38;5;241m.\u001b[39mpredict(forestTest)\n\u001b[1;32m----> 5\u001b[0m \u001b[38;5;28mprint\u001b[39m(forestTest\u001b[38;5;241m.\u001b[39mforest_target_names[prediction])\n\u001b[0;32m      7\u001b[0m \u001b[38;5;28;01mfrom\u001b[39;00m \u001b[38;5;21;01msklearn\u001b[39;00m\u001b[38;5;21;01m.\u001b[39;00m\u001b[38;5;21;01mmetrics\u001b[39;00m \u001b[38;5;28;01mimport\u001b[39;00m accuracy_score\n\u001b[0;32m      8\u001b[0m \u001b[38;5;28mprint\u001b[39m(accuracy_score(forest_target,prediction))\n",
      "\u001b[1;31mAttributeError\u001b[0m: 'numpy.ndarray' object has no attribute 'forest_target_names'"
     ]
    }
   ],
   "source": []
  },
  {
   "cell_type": "code",
   "execution_count": 91,
   "id": "06c69809",
   "metadata": {},
   "outputs": [
    {
     "data": {
      "text/plain": [
       "'T_Forest_Entropy_Max_depth3.pdf'"
      ]
     },
     "execution_count": 91,
     "metadata": {},
     "output_type": "execute_result"
    }
   ],
   "source": [
    "#build decision tree 2\n",
    "from sklearn import tree\n",
    "clf=tree.DecisionTreeClassifier(max_depth=3,criterion=\"entropy\")\n",
    "clf=clf.fit(forest_data,forest_target)\n",
    "#plot decision tree\n",
    "import graphviz\n",
    "dot_data = tree.export_graphviz(clf,out_file=None,\n",
    "                               feature_names=forest_feature_names,\n",
    "                               class_names=forest_target_names,\n",
    "                               filled=True,\n",
    "                               rounded=True,\n",
    "                               special_characters=True)\n",
    "graph=graphviz.Source(dot_data)\n",
    "\n",
    "graph.render('T_Forest_Entropy_Max_depth3', view=True)"
   ]
  },
  {
   "cell_type": "code",
   "execution_count": 92,
   "id": "9767a846",
   "metadata": {},
   "outputs": [
    {
     "data": {
      "text/plain": [
       "'T_Forest_Entropy_Max_depth3_minsamplesp50.pdf'"
      ]
     },
     "execution_count": 92,
     "metadata": {},
     "output_type": "execute_result"
    }
   ],
   "source": [
    "#build decision tree 3\n",
    "from sklearn import tree\n",
    "clf=tree.DecisionTreeClassifier(max_depth=3,criterion=\"entropy\",min_samples_split=50)\n",
    "clf=clf.fit(forest_data,forest_target)\n",
    "#plot decision tree\n",
    "import graphviz\n",
    "dot_data = tree.export_graphviz(clf,out_file=None,\n",
    "                               feature_names=forest_feature_names,\n",
    "                               class_names=forest_target_names,\n",
    "                               filled=True,\n",
    "                               rounded=True,\n",
    "                               special_characters=True)\n",
    "graph=graphviz.Source(dot_data)\n",
    "\n",
    "graph.render('T_Forest_Entropy_Max_depth3_minsamplesp50', view=True)"
   ]
  },
  {
   "cell_type": "code",
   "execution_count": 93,
   "id": "11a43049",
   "metadata": {},
   "outputs": [
    {
     "data": {
      "text/plain": [
       "'T_Forest_Gini_Max_depth3_minsamplesp50.pdf'"
      ]
     },
     "execution_count": 93,
     "metadata": {},
     "output_type": "execute_result"
    }
   ],
   "source": [
    "#build decision tree 4\n",
    "from sklearn import tree\n",
    "clf=tree.DecisionTreeClassifier(max_depth=3,min_samples_split=50)\n",
    "clf=clf.fit(forest_data,forest_target)\n",
    "#plot decision tree\n",
    "import graphviz\n",
    "dot_data = tree.export_graphviz(clf,out_file=None,\n",
    "                               feature_names=forest_feature_names,\n",
    "                               class_names=forest_target_names,\n",
    "                               filled=True,\n",
    "                               rounded=True,\n",
    "                               special_characters=True)\n",
    "graph=graphviz.Source(dot_data)\n",
    "\n",
    "graph.render('T_Forest_Gini_Max_depth3_minsamplesp50', view=True)"
   ]
  },
  {
   "cell_type": "code",
   "execution_count": 94,
   "id": "9683a2e9",
   "metadata": {},
   "outputs": [
    {
     "data": {
      "text/plain": [
       "'T_Forest_Entropy_Max_depth3_minsamplesp50_maxleafnode4.pdf'"
      ]
     },
     "execution_count": 94,
     "metadata": {},
     "output_type": "execute_result"
    }
   ],
   "source": [
    "#build decision tree5\n",
    "from sklearn import tree\n",
    "clf=tree.DecisionTreeClassifier(max_depth=3,criterion=\"entropy\",min_samples_split=50,max_leaf_nodes=4)\n",
    "clf=clf.fit(forest_data,forest_target)\n",
    "#plot decision tree\n",
    "import graphviz\n",
    "dot_data = tree.export_graphviz(clf,out_file=None,\n",
    "                               feature_names=forest_feature_names,\n",
    "                               class_names=forest_target_names,\n",
    "                               filled=True,\n",
    "                               rounded=True,\n",
    "                               special_characters=True)\n",
    "graph=graphviz.Source(dot_data)\n",
    "\n",
    "graph.render('T_Forest_Entropy_Max_depth3_minsamplesp50_maxleafnode4', view=True)\n"
   ]
  },
  {
   "cell_type": "code",
   "execution_count": 95,
   "id": "ada9aa31",
   "metadata": {},
   "outputs": [
    {
     "data": {
      "text/plain": [
       "'T_Forest_gini_Max_depth3_minsamplesp50_maxleafnode4.pdf'"
      ]
     },
     "execution_count": 95,
     "metadata": {},
     "output_type": "execute_result"
    }
   ],
   "source": [
    "#build decision tree6\n",
    "from sklearn import tree\n",
    "clf=tree.DecisionTreeClassifier(max_depth=3,min_samples_split=50,max_leaf_nodes=4)\n",
    "clf=clf.fit(forest_data,forest_target)\n",
    "#plot decision tree\n",
    "import graphviz\n",
    "dot_data = tree.export_graphviz(clf,out_file=None,\n",
    "                               feature_names=forest_feature_names,\n",
    "                               class_names=forest_target_names,\n",
    "                               filled=True,\n",
    "                               rounded=True,\n",
    "                               special_characters=True)\n",
    "graph=graphviz.Source(dot_data)\n",
    "\n",
    "graph.render('T_Forest_gini_Max_depth3_minsamplesp50_maxleafnode4', view=True)\n"
   ]
  },
  {
   "cell_type": "code",
   "execution_count": 202,
   "id": "58b962b4",
   "metadata": {},
   "outputs": [
    {
     "name": "stdout",
     "output_type": "stream",
     "text": [
      "Total no. of rows: 199\n"
     ]
    }
   ],
   "source": [
    "import csv\n",
    "import decimal\n",
    "    \n",
    "# csv file name\n",
    "filename = \"forest_training.csv\"\n",
    " \n",
    "# initializing the titles and rows list\n",
    "fields = []\n",
    "rows = []\n",
    " \n",
    "# reading csv file\n",
    "with open(filename, 'r') as csvfile:\n",
    "    # creating a csv reader object\n",
    "    csvreader = csv.reader(csvfile)\n",
    " \n",
    "    # extracting field names through first row\n",
    "    fields = next(csvreader)\n",
    " \n",
    "    # extracting each data row one by one\n",
    "    for row in csvreader:\n",
    "        rows.append(row)\n",
    " \n",
    "    # get total number of rows\n",
    "    print(\"Total no. of rows: %d\" % (csvreader.line_num))\n",
    " \n",
    "#\n",
    "forest_feature_names2=fields[1:]\n",
    "forest_data2=[]\n",
    "forest_target2=[]\n",
    "\n",
    "\n",
    "for row in rows[:]:\n",
    "    record=[]\n",
    "    # parsing each column of a row\n",
    "    for col in row:\n",
    "        record.append(col)\n",
    "        \n",
    "    clas=record[0:1]\n",
    "    \n",
    "    if(clas[0].strip()==\"s\"):\n",
    "        forest_target2.append(0)\n",
    "    elif(clas[0].strip()==\"h\"):\n",
    "        forest_target2.append(1)\n",
    "    elif(clas[0].strip()==\"d\"):\n",
    "        forest_target2.append(2)\n",
    "    elif(clas[0].strip()==\"o\"):\n",
    "        forest_target2.append(3)\n",
    "    \n",
    "    data=record[1:]\n",
    "    data_formatted=[]\n",
    "    for val in data:\n",
    "        data_formatted.append(float(val.strip()))\n",
    "    forest_data2.append(data_formatted)"
   ]
  },
  {
   "cell_type": "code",
   "execution_count": 101,
   "id": "4b5bb0df",
   "metadata": {},
   "outputs": [
    {
     "name": "stdout",
     "output_type": "stream",
     "text": [
      "[2, 1, 0, 0, 2, 1, 0, 2, 0, 3, 2, 3, 3, 2, 0, 3, 3, 2, 0, 1, 3, 2, 0, 1, 2, 1, 3, 2, 2, 2, 2, 0, 3, 0, 2, 2, 2, 1, 3, 2, 2, 2, 0, 0, 1, 2, 2, 3, 2, 0, 2, 0, 0, 1, 1, 0, 3, 2, 1, 1, 2, 3, 3, 3, 1, 0, 1, 2, 2, 1, 3, 3, 3, 0, 1, 0, 2, 3, 0, 0, 2, 2, 3, 1, 3, 1, 2, 2, 0, 3, 3, 1, 3, 3, 2, 0, 3, 1, 3, 0, 2, 3, 1, 1, 1, 1, 1, 2, 0, 1, 2, 2, 2, 2, 1, 3, 0, 1, 0, 0, 0, 0, 3, 0, 1, 0, 1, 0, 1, 2, 0, 0, 3, 0, 1, 0, 3, 0, 2, 0, 0, 1, 0, 1, 0, 2, 2, 0, 1, 2, 0, 1, 0, 2, 3, 2, 0, 3, 2, 0, 3, 2, 3, 0, 2, 1, 0, 0, 3, 2, 0, 1, 1, 1, 0, 0, 1, 2, 1, 2, 0, 0, 1, 0, 1, 0, 2, 3, 1, 0, 0, 0, 1, 2, 2, 1, 1, 1]\n",
      "[[39.0, 36.0, 57.0, 91.0, 59.0, 101.0, 93.0, 27.0, 60.0, 75.7, 14.86, 40.35, 7.97, -32.92, -38.92, -14.94, 4.47, -2.36, -18.41, -1.88, -6.43, -21.03, -1.6, -6.18, -22.5, -5.2, -7.86], [84.0, 30.0, 57.0, 112.0, 51.0, 98.0, 92.0, 26.0, 62.0, 30.58, 20.42, 39.83, -16.74, -24.92, -36.33, -15.67, 8.16, -2.26, -16.27, -1.95, -6.25, -18.79, -1.99, -6.18, -23.41, -8.87, -10.83], [53.0, 25.0, 49.0, 99.0, 51.0, 93.0, 84.0, 26.0, 58.0, 63.2, 26.7, 49.28, 3.25, -24.89, -30.38, -3.6, 4.15, -1.46, -15.92, -1.79, -4.64, -17.73, -0.48, -4.69, -19.97, -4.1, -7.07], [59.0, 26.0, 49.0, 103.0, 47.0, 92.0, 82.0, 25.0, 56.0, 55.54, 24.5, 47.9, -6.2, -20.98, -30.28, -5.03, 7.77, 2.68, -13.77, -2.53, -6.34, -22.03, -2.34, -6.6, -27.1, -7.99, -10.81], [57.0, 49.0, 66.0, 103.0, 64.0, 106.0, 114.0, 28.0, 59.0, 59.44, 2.62, 32.02, -1.33, -37.99, -43.57, -34.25, 1.83, -2.94, -21.74, -1.64, -4.62, -23.74, -0.85, -5.5, -22.83, -2.74, -5.84], [85.0, 28.0, 56.0, 120.0, 52.0, 98.0, 101.0, 27.0, 65.0, 35.14, 23.43, 42.29, -16.58, -25.43, -34.14, -17.45, 1.58, -10.28, -26.18, -1.89, -5.89, -34.92, -1.89, -8.05, -29.72, -1.94, -4.94], [56.0, 29.0, 50.0, 93.0, 51.0, 94.0, 77.0, 26.0, 58.0, 62.5, 22.48, 48.2, 9.69, -24.78, -30.81, 3.91, 3.09, -2.68, -26.33, -0.55, -3.89, -23.84, 0.02, -4.2, -23.17, -0.22, -4.22], [40.0, 39.0, 58.0, 82.0, 61.0, 99.0, 89.0, 26.0, 57.0, 73.99, 12.91, 41.92, 17.33, -34.82, -36.19, -11.07, 4.28, -0.19, -18.72, -2.61, -8.38, -20.56, -1.51, -6.68, -21.16, -3.42, -6.61], [53.0, 27.0, 49.0, 95.0, 49.0, 92.0, 63.0, 25.0, 54.0, 66.97, 24.43, 49.28, 8.08, -22.53, -28.25, 19.78, 3.75, 0.92, -25.65, -2.09, -5.95, -39.27, -2.13, -8.73, -30.73, -2.42, -5.58], [51.0, 57.0, 77.0, 90.0, 89.0, 123.0, 97.0, 47.0, 83.0, 64.91, -5.21, 21.45, 12.21, -62.9, -60.4, -16.75, -16.85, -26.44, -20.97, -1.76, -5.05, -22.01, -0.93, -5.6, -22.26, -3.28, -6.39], [34.0, 32.0, 53.0, 97.0, 53.0, 97.0, 59.0, 22.0, 50.0, 83.32, 19.34, 45.03, 4.09, -26.76, -33.99, 20.34, 7.06, 5.3, -22.93, -1.82, -5.44, -27.3, -1.37, -6.44, -23.23, -1.89, -4.89], [75.0, 68.0, 89.0, 116.0, 77.0, 118.0, 94.0, 42.0, 76.0, 43.28, -16.52, 9.17, -13.26, -50.8, -54.87, -13.2, -12.88, -20.64, -24.49, -1.42, -4.34, -27.33, -0.91, -5.92, -24.1, -1.21, -4.88], [64.0, 52.0, 71.0, 98.0, 72.0, 109.0, 87.0, 37.0, 70.0, 50.02, -0.56, 27.64, 0.31, -46.02, -46.84, -9.36, -5.94, -12.59, -18.32, -2.47, -7.93, -20.07, -1.51, -6.34, -21.78, -4.52, -7.42], [51.0, 47.0, 67.0, 95.0, 66.0, 106.0, 97.0, 26.0, 56.0, 66.92, 4.48, 31.13, 7.76, -39.83, -42.96, -16.39, 3.16, -0.6, -23.75, -1.66, -4.84, -28.07, -1.14, -6.32, -24.11, -1.67, -5.04], [63.0, 28.0, 52.0, 93.0, 51.0, 93.0, 84.0, 25.0, 59.0, 52.49, 24.04, 46.33, 10.0, -24.96, -30.64, -4.09, 5.51, -2.14, -22.89, -1.26, -4.81, -20.77, -0.89, -5.11, -20.06, -3.51, -6.6], [41.0, 44.0, 67.0, 64.0, 71.0, 104.0, 84.0, 54.0, 85.0, 71.81, 8.35, 34.35, 33.13, -44.66, -40.47, -7.91, -24.34, -28.44, -18.06, -3.04, -10.02, -18.23, -1.68, -7.48, -19.16, -2.55, -6.17], [67.0, 68.0, 89.0, 108.0, 74.0, 114.0, 117.0, 44.0, 86.0, 44.82, -17.32, 8.65, -14.46, -46.89, -50.18, -42.21, -14.5, -29.84, -20.1, -0.05, -3.1, -20.06, -1.11, -4.97, -18.07, -0.29, -3.91], [62.0, 59.0, 73.0, 91.0, 78.0, 109.0, 112.0, 28.0, 59.0, 51.78, -7.26, 26.41, 7.38, -52.0, -46.65, -34.42, 2.75, -1.82, -18.39, -2.84, -8.8, -18.93, -1.51, -6.56, -20.28, -3.8, -6.86], [50.0, 25.0, 49.0, 92.0, 48.0, 90.0, 62.0, 23.0, 52.0, 63.08, 25.84, 48.42, 5.61, -21.87, -27.52, 13.09, 5.99, 3.1, -19.16, -2.88, -7.25, -31.35, -2.43, -7.84, -22.66, -2.57, -4.99], [74.0, 29.0, 55.0, 114.0, 52.0, 101.0, 94.0, 28.0, 65.0, 38.43, 23.43, 46.57, -19.59, -25.44, -37.0, -19.66, 0.49, -9.11, -17.91, -3.04, -10.05, -15.37, -1.86, -7.9, -17.2, -1.27, -5.42], [78.0, 85.0, 101.0, 124.0, 82.0, 126.0, 91.0, 50.0, 80.0, 37.23, -33.92, -3.44, -24.21, -55.89, -63.47, -13.53, -20.94, -24.71, -20.68, -1.6, -5.22, -24.8, -1.16, -5.72, -20.59, -1.67, -4.54], [61.0, 50.0, 69.0, 91.0, 73.0, 105.0, 111.0, 27.0, 59.0, 53.31, 1.23, 28.56, 7.9, -47.15, -43.27, -32.78, 4.14, -1.6, -19.78, -2.69, -7.74, -20.33, -1.58, -6.46, -20.89, -3.9, -6.68], [55.0, 30.0, 53.0, 86.0, 52.0, 94.0, 69.0, 28.0, 61.0, 56.56, 20.7, 44.65, 7.51, -24.94, -30.2, 5.07, 1.4, -5.0, -25.66, 1.02, -3.15, -22.19, 0.65, -2.84, -19.5, 1.1, -2.77], [68.0, 28.0, 54.0, 110.0, 50.0, 98.0, 95.0, 27.0, 64.0, 40.75, 22.88, 43.75, -17.2, -23.37, -34.37, -29.05, 1.39, -9.84, -14.24, -0.7, -3.01, -16.95, -0.94, -5.06, -7.59, 0.24, -2.12], [57.0, 55.0, 71.0, 102.0, 70.0, 108.0, 126.0, 27.0, 59.0, 58.55, -2.97, 27.12, 0.95, -44.02, -45.8, -45.99, 3.78, -1.9, -22.16, -2.01, -4.88, -23.59, -1.0, -5.59, -22.3, -3.61, -6.71], [74.0, 30.0, 57.0, 109.0, 50.0, 98.0, 88.0, 28.0, 64.0, 37.75, 20.63, 40.63, -16.73, -22.13, -33.5, -11.88, 2.12, -6.53, -20.83, 0.19, -3.08, -18.88, -1.56, -5.22, -19.58, -0.54, -5.02], [66.0, 78.0, 101.0, 106.0, 73.0, 114.0, 112.0, 36.0, 73.0, 48.08, -26.47, -2.61, -7.11, -47.11, -52.05, -33.92, -5.12, -15.77, -19.12, -2.7, -8.21, -19.17, -1.41, -6.24, -20.34, -3.67, -6.73], [50.0, 39.0, 62.0, 108.0, 55.0, 101.0, 95.0, 26.0, 58.0, 65.11, 11.94, 35.26, -8.07, -28.99, -38.74, -17.55, 3.12, -2.71, -20.94, -1.65, -4.94, -24.67, -1.08, -5.59, -20.79, -1.81, -4.77], [50.0, 51.0, 73.0, 78.0, 61.0, 98.0, 89.0, 25.0, 55.0, 63.42, 0.86, 26.07, 21.02, -35.17, -36.07, -11.53, 5.7, 2.03, -19.05, -2.81, -8.65, -19.11, -1.28, -6.17, -19.51, -3.16, -6.28], [45.0, 39.0, 60.0, 105.0, 60.0, 106.0, 98.0, 27.0, 57.0, 68.12, 11.67, 37.47, -8.42, -33.88, -43.58, -23.51, 1.91, -1.94, -18.76, -1.01, -5.0, -23.14, -1.09, -5.18, -17.79, -1.24, -3.77], [45.0, 39.0, 61.0, 108.0, 57.0, 108.0, 74.0, 27.0, 57.0, 66.82, 11.67, 36.64, -14.65, -29.79, -44.06, 1.0, 2.56, -0.69, -19.71, -0.04, -2.99, -19.55, -1.25, -5.1, -18.0, -0.41, -4.04], [57.0, 28.0, 49.0, 96.0, 48.0, 92.0, 78.0, 25.0, 57.0, 57.71, 23.08, 48.15, 4.48, -22.06, -29.98, -0.94, 4.47, -1.44, -21.93, -2.47, -4.86, -24.79, -1.08, -5.86, -21.44, -2.33, -5.94], [67.0, 75.0, 95.0, 92.0, 84.0, 120.0, 81.0, 53.0, 86.0, 44.85, -24.28, 2.59, 3.77, -57.73, -57.22, -7.92, -24.11, -30.97, -15.64, -0.66, -2.3, -17.71, -0.63, -4.03, -13.26, -0.37, -2.91], [68.0, 28.0, 54.0, 104.0, 50.0, 96.0, 90.0, 28.0, 61.0, 43.51, 22.74, 43.62, -8.54, -23.66, -33.1, -17.25, 0.91, -5.93, -10.26, -0.57, -1.7, -5.4, 0.47, -1.36, -5.61, 0.26, -1.67], [49.0, 46.0, 67.0, 105.0, 57.0, 100.0, 91.0, 25.0, 55.0, 66.99, 5.85, 30.25, -1.41, -31.14, -38.09, -10.45, 5.72, 1.95, -21.31, -2.11, -4.91, -24.32, -0.98, -5.5, -22.41, -3.16, -6.14], [56.0, 50.0, 68.0, 80.0, 70.0, 100.0, 107.0, 27.0, 60.0, 57.8, 0.42, 27.5, 17.38, -44.61, -39.56, -29.18, 3.46, -3.55, -20.35, -2.13, -6.8, -17.57, -1.01, -5.12, -18.96, -2.67, -5.4], [61.0, 77.0, 108.0, 83.0, 69.0, 103.0, 93.0, 24.0, 55.0, 52.95, -25.29, -10.87, 17.17, -43.39, -41.79, -14.73, 6.75, 1.92, -20.65, -2.35, -6.66, -20.22, -1.02, -5.55, -20.42, -2.64, -5.72], [82.0, 29.0, 54.0, 111.0, 51.0, 97.0, 107.0, 26.0, 63.0, 34.5, 22.56, 44.5, -3.92, -24.34, -32.79, -24.15, 3.4, -6.89, -22.53, -1.87, -6.47, -31.02, -1.97, -8.14, -26.03, -1.92, -5.32], [63.0, 70.0, 92.0, 90.0, 87.0, 129.0, 103.0, 70.0, 109.0, 49.2, -19.21, 5.67, 4.24, -60.53, -66.15, -28.98, -40.84, -53.53, -18.39, -0.31, -2.56, -19.41, -0.83, -4.3, -16.09, -0.47, -3.3], [54.0, 57.0, 78.0, 77.0, 69.0, 100.0, 97.0, 26.0, 56.0, 59.42, -6.75, 16.98, 20.55, -43.64, -39.73, -19.71, 4.32, 0.25, -20.22, -2.26, -6.65, -16.47, -0.87, -4.77, -17.49, -2.54, -5.28], [40.0, 38.0, 59.0, 114.0, 55.0, 105.0, 87.0, 26.0, 58.0, 72.56, 12.78, 38.64, -19.42, -28.75, -42.52, -13.05, 3.04, -2.75, -17.76, -0.34, -2.13, -18.94, -0.7, -3.92, -15.38, -0.48, -3.04], [58.0, 52.0, 68.0, 105.0, 65.0, 107.0, 107.0, 27.0, 56.0, 55.13, -1.67, 28.04, -8.2, -39.47, -46.19, -32.33, 1.79, -1.24, -18.53, -0.61, -3.43, -22.41, -0.74, -4.09, -17.44, -1.16, -3.56], [62.0, 27.0, 51.0, 92.0, 47.0, 87.0, 89.0, 25.0, 57.0, 51.04, 22.96, 43.38, 4.66, -21.76, -27.07, -12.25, 5.2, -0.93, -19.84, -2.99, -6.22, -11.07, -0.31, -3.64, -14.2, -2.67, -5.79], [53.0, 27.0, 49.0, 87.0, 50.0, 90.0, 71.0, 25.0, 55.0, 62.14, 24.28, 48.07, 15.31, -24.29, -28.36, 7.09, 4.66, 0.71, -24.07, -2.26, -5.76, -31.75, -1.61, -6.74, -24.89, -2.85, -5.98], [82.0, 29.0, 55.0, 117.0, 50.0, 98.0, 101.0, 26.0, 63.0, 34.21, 21.21, 42.36, -16.84, -24.14, -35.64, -21.67, 2.64, -7.93, -19.7, 0.08, -1.2, -24.43, -0.73, -4.36, -20.41, -0.49, -3.02], [63.0, 50.0, 69.0, 97.0, 73.0, 109.0, 101.0, 28.0, 60.0, 52.84, 0.23, 28.34, 1.38, -47.16, -46.81, -23.35, 0.74, -4.99, -19.85, -0.03, -1.79, -23.22, -0.79, -4.45, -19.2, -0.67, -3.12], [54.0, 48.0, 67.0, 115.0, 59.0, 105.0, 118.0, 28.0, 62.0, 59.86, 2.61, 30.47, -19.76, -33.06, -43.07, -43.23, 0.92, -6.95, -17.12, -0.03, -0.29, -19.08, -0.62, -3.35, -15.45, -0.57, -2.67], [60.0, 62.0, 85.0, 101.0, 73.0, 115.0, 96.0, 37.0, 73.0, 52.89, -11.6, 10.43, -2.35, -47.73, -54.87, -21.37, -7.74, -17.87, -17.73, -0.76, -3.36, -23.32, -0.69, -3.76, -17.22, -1.81, -4.13], [54.0, 53.0, 72.0, 81.0, 70.0, 102.0, 106.0, 27.0, 58.0, 58.17, -2.54, 22.6, 17.15, -44.68, -41.98, -29.34, 3.46, -1.58, -22.54, -0.07, -4.62, -19.2, -0.84, -5.06, -20.79, -0.45, -3.33], [70.0, 28.0, 54.0, 113.0, 52.0, 100.0, 88.0, 25.0, 63.0, 44.55, 22.46, 43.37, -17.31, -26.17, -38.22, -12.66, 3.85, -8.02, -4.81, 0.97, 2.27, -8.54, -0.2, -0.04, -7.13, -0.3, -0.14], [56.0, 51.0, 69.0, 88.0, 64.0, 104.0, 102.0, 25.0, 54.0, 60.28, 0.4, 27.6, 15.16, -38.42, -42.68, -21.99, 5.34, 2.49, -21.91, -1.71, -5.25, -25.52, -0.89, -5.42, -22.17, -2.48, -5.39], [51.0, 31.0, 55.0, 80.0, 52.0, 90.0, 82.0, 25.0, 56.0, 61.3, 19.77, 39.83, 18.77, -26.64, -29.83, -5.14, 5.55, 0.5, -30.77, 1.99, -4.54, -18.81, -0.66, -5.85, -27.83, 0.87, -1.31], [63.0, 28.0, 52.0, 98.0, 50.0, 92.0, 83.0, 26.0, 58.0, 54.28, 23.18, 44.35, 6.5, -24.48, -30.8, -2.27, 4.45, -1.41, -22.1, -1.58, -5.35, -23.97, -0.33, -4.81, -19.99, -2.05, -4.61], [85.0, 34.0, 59.0, 112.0, 58.0, 99.0, 115.0, 26.0, 63.0, 27.51, 24.99, 40.0, 4.59, -31.54, -37.01, -30.67, 8.66, -3.25, -18.02, -8.8, -8.47, -35.97, -1.72, -6.05, -24.83, -5.74, -7.57], [93.0, 29.0, 56.0, 126.0, 49.0, 96.0, 121.0, 26.0, 64.0, 29.98, 20.91, 40.27, -12.35, -23.55, -33.83, -32.69, 2.88, -8.85, -28.72, 0.11, -5.31, -34.61, -0.8, -6.36, -29.4, -0.32, -3.21], [53.0, 29.0, 51.0, 87.0, 49.0, 92.0, 66.0, 24.0, 56.0, 60.98, 21.63, 46.37, 7.84, -23.27, -30.63, 8.61, 4.88, -1.07, -26.56, 0.74, -3.67, -28.71, -0.29, -4.33, -22.42, -0.38, -3.74], [52.0, 49.0, 67.0, 54.0, 53.0, 87.0, 62.0, 52.0, 79.0, 60.6, 0.08, 25.76, 40.82, -28.08, -28.07, 14.3, -22.3, -23.61, -19.63, -1.72, -5.0, -18.12, -1.28, -4.96, -16.85, -1.57, -4.05], [44.0, 37.0, 59.0, 94.0, 59.0, 100.0, 88.0, 24.0, 53.0, 71.57, 14.27, 37.03, 8.39, -33.57, -39.26, -8.76, 6.48, 3.51, -20.89, -1.61, -4.59, -24.65, -0.79, -4.8, -20.83, -2.45, -5.22], [66.0, 28.0, 54.0, 104.0, 48.0, 95.0, 84.0, 25.0, 59.0, 40.59, 21.57, 39.57, -15.93, -22.86, -36.13, -14.09, 4.5, -3.78, -15.55, -0.16, -4.34, -10.57, -1.0, -4.31, -12.37, -0.26, -2.81], [85.0, 30.0, 56.0, 118.0, 50.0, 96.0, 106.0, 26.0, 60.0, 33.5, 20.5, 40.5, -11.9, -24.5, -34.9, -21.75, 4.41, -2.73, -23.99, -0.42, -5.54, -27.39, -0.92, -5.39, -25.36, -1.81, -5.29], [53.0, 40.0, 61.0, 92.0, 60.0, 99.0, 101.0, 25.0, 56.0, 62.25, 11.25, 34.92, 10.02, -34.6, -38.37, -22.1, 5.47, 0.49, -20.32, -1.59, -4.27, -24.22, -0.8, -4.69, -20.42, -2.48, -5.21], [45.0, 43.0, 62.0, 96.0, 63.0, 101.0, 90.0, 30.0, 65.0, 63.77, 6.03, 31.53, -7.27, -38.71, -43.91, -23.74, -1.89, -11.44, -16.33, 0.63, -2.7, -17.18, -0.2, -1.83, -11.33, -0.95, -2.64], [61.0, 59.0, 77.0, 99.0, 73.0, 111.0, 105.0, 35.0, 73.0, 52.61, -8.27, 20.31, -5.01, -47.45, -50.12, -31.09, -6.15, -18.15, -19.07, -0.19, -2.64, -20.29, -0.49, -3.32, -16.19, -0.65, -3.04], [56.0, 69.0, 91.0, 93.0, 96.0, 136.0, 74.0, 54.0, 90.0, 59.92, -17.71, 5.0, 9.94, -70.58, -75.28, 5.65, -23.42, -33.37, -20.87, -1.07, -4.62, -23.83, -0.66, -4.56, -20.6, -2.14, -4.74], [56.0, 26.0, 51.0, 107.0, 49.0, 91.0, 78.0, 23.0, 55.0, 51.23, 22.69, 42.15, -29.06, -25.75, -35.68, -19.37, 3.39, -3.74, -17.84, 0.77, -2.66, -10.48, 0.44, -0.97, -6.78, 0.48, -0.72], [49.0, 27.0, 50.0, 85.0, 49.0, 91.0, 65.0, 23.0, 54.0, 58.62, 21.76, 43.21, -1.72, -25.3, -35.1, -3.05, 4.3, -1.53, -23.95, 0.32, -2.86, -23.43, -0.83, -3.49, -15.86, -0.71, -2.71], [82.0, 30.0, 56.0, 118.0, 49.0, 94.0, 105.0, 26.0, 63.0, 36.99, 20.9, 40.3, -15.88, -23.41, -32.41, -23.97, 3.9, -6.65, -24.65, -0.95, -6.21, -22.79, -1.07, -6.0, -21.83, -1.07, -4.27], [61.0, 50.0, 68.0, 103.0, 65.0, 107.0, 101.0, 27.0, 57.0, 53.47, 1.29, 28.19, -1.98, -39.57, -46.55, -23.48, 3.19, -0.91, -15.52, -1.46, -2.77, -21.1, -0.83, -3.8, -16.41, -2.26, -4.5], [59.0, 56.0, 75.0, 88.0, 77.0, 107.0, 114.0, 26.0, 58.0, 56.68, -4.84, 20.71, 12.76, -51.62, -46.43, -35.29, 4.84, -1.16, -23.36, -1.58, -6.44, -23.72, -1.08, -5.63, -21.05, -1.95, -4.79], [78.0, 29.0, 55.0, 119.0, 49.0, 97.0, 99.0, 26.0, 63.0, 40.85, 20.57, 41.14, -21.66, -23.44, -35.44, -18.66, 3.28, -6.66, -25.73, -1.05, -8.27, -21.08, -1.69, -7.25, -21.45, -1.02, -4.65], [55.0, 58.0, 81.0, 97.0, 77.0, 121.0, 85.0, 38.0, 71.0, 56.46, -7.94, 14.45, -5.31, -51.94, -61.81, -13.99, -9.3, -16.49, -16.3, -0.04, -2.15, -16.69, -0.43, -2.48, -13.21, -0.98, -3.09], [92.0, 56.0, 83.0, 172.0, 58.0, 110.0, 97.0, 82.0, 108.0, 20.01, -7.05, 9.35, -77.01, -33.18, -51.38, -21.07, -52.0, -52.4, -19.16, -0.82, -4.46, -18.93, -1.08, -4.44, -16.63, -1.5, -3.74], [68.0, 76.0, 89.0, 111.0, 82.0, 123.0, 121.0, 35.0, 74.0, 44.09, -25.64, 7.07, -18.54, -56.8, -63.39, -49.08, -6.17, -19.31, -16.76, -0.27, -2.29, -17.49, -0.54, -2.75, -14.02, -1.07, -3.24], [60.0, 27.0, 49.0, 95.0, 47.0, 88.0, 69.0, 23.0, 53.0, 53.52, 22.68, 45.27, 1.42, -21.82, -28.12, 8.0, 7.65, 3.6, -19.52, -2.97, -7.33, -26.02, -2.03, -6.91, -19.2, -4.02, -6.92], [84.0, 32.0, 57.0, 118.0, 50.0, 95.0, 100.0, 25.0, 62.0, 33.66, 18.0, 37.72, -19.39, -24.56, -34.28, -19.4, 9.46, -1.65, -24.05, -1.6, -6.96, -22.45, -1.61, -6.4, -21.33, -6.33, -8.76], [58.0, 27.0, 51.0, 95.0, 49.0, 94.0, 68.0, 23.0, 55.0, 55.51, 24.66, 47.4, -1.75, -23.56, -33.53, 6.22, 5.97, -0.1, -19.98, -2.27, -4.94, -23.41, -1.46, -4.69, -16.93, -1.5, -4.21], [57.0, 54.0, 70.0, 79.0, 74.0, 101.0, 94.0, 26.0, 56.0, 55.34, -5.6, 21.35, 15.23, -49.23, -42.72, -17.69, 3.63, -0.94, -21.1, -0.3, -4.11, -19.65, -1.11, -4.4, -17.92, -0.46, -2.75], [63.0, 53.0, 74.0, 98.0, 77.0, 113.0, 77.0, 39.0, 68.0, 51.01, -1.64, 21.35, 3.4, -51.68, -52.8, 0.55, -8.36, -11.49, -17.77, -1.08, -3.27, -22.03, -0.7, -4.09, -17.92, -2.13, -4.52], [80.0, 29.0, 54.0, 119.0, 50.0, 95.0, 101.0, 24.0, 60.0, 33.33, 22.28, 42.05, -19.36, -24.69, -35.02, -25.24, 6.32, -3.92, 5.13, -1.35, -1.41, 1.88, -0.53, -0.94, 3.67, -1.26, -1.35], [59.0, 29.0, 52.0, 97.0, 52.0, 98.0, 74.0, 25.0, 57.0, 54.5, 22.78, 46.58, -3.71, -26.53, -37.49, 0.42, 3.99, -2.07, -18.07, 0.17, -1.16, -19.03, -0.07, -2.62, -13.87, -0.24, -2.22], [56.0, 46.0, 66.0, 115.0, 61.0, 106.0, 101.0, 27.0, 57.0, 57.12, 5.15, 31.51, -21.93, -35.63, -45.83, -27.83, 1.93, -2.18, -17.92, -0.96, -3.2, -18.52, -0.72, -3.33, -15.31, -1.14, -3.41], [53.0, 47.0, 66.0, 107.0, 65.0, 107.0, 104.0, 27.0, 57.0, 58.86, 3.51, 29.42, -10.69, -39.99, -47.89, -31.4, 2.68, -1.68, -14.94, -0.47, -2.51, -18.73, -0.53, -2.75, -13.14, -1.92, -3.85], [61.0, 67.0, 90.0, 93.0, 92.0, 131.0, 85.0, 56.0, 96.0, 52.6, -15.13, 8.69, 0.39, -66.51, -70.45, -10.4, -26.99, -41.04, -20.0, -0.72, -2.33, -20.65, -0.46, -3.13, -16.9, -0.73, -3.04], [73.0, 35.0, 61.0, 108.0, 56.0, 95.0, 109.0, 25.0, 59.0, 35.75, 21.0, 34.25, 3.24, -30.75, -36.25, -35.69, 10.83, 2.1, -14.22, -6.02, -4.77, -32.81, -0.8, -3.27, -14.72, -7.07, -9.18], [98.0, 89.0, 107.0, 152.0, 67.0, 115.0, 114.0, 46.0, 85.0, 15.14, -37.5, -12.28, -51.16, -41.72, -55.12, -37.02, -14.94, -28.14, -18.38, -1.78, -4.85, -22.4, -0.94, -4.61, -18.01, -2.31, -4.97], [79.0, 30.0, 55.0, 111.0, 49.0, 94.0, 92.0, 24.0, 59.0, 30.42, 19.4, 38.67, -17.98, -23.88, -34.21, -15.68, 6.22, -2.75, -14.18, -1.46, -5.8, -16.22, -1.41, -5.43, -15.41, -2.38, -4.89], [55.0, 50.0, 66.0, 106.0, 63.0, 100.0, 114.0, 26.0, 59.0, 58.34, 1.44, 29.11, -4.81, -37.62, -39.86, -36.84, 4.73, -2.55, -18.13, -0.9, -2.73, -22.85, -0.77, -4.14, -19.04, -2.3, -4.61], [55.0, 47.0, 66.0, 100.0, 61.0, 106.0, 92.0, 25.0, 56.0, 58.65, 4.83, 32.53, -6.95, -35.66, -45.87, -18.05, 4.03, -1.1, -18.45, -1.31, -3.94, -18.22, -0.67, -3.28, -15.49, -1.13, -3.36], [69.0, 27.0, 51.0, 101.0, 47.0, 88.0, 79.0, 23.0, 54.0, 41.93, 21.73, 41.24, -7.52, -22.18, -29.38, -3.61, 6.71, 1.3, -9.39, -1.92, -3.74, -11.79, -1.31, -3.24, -8.18, -2.25, -4.41], [71.0, 65.0, 85.0, 100.0, 81.0, 121.0, 120.0, 35.0, 73.0, 41.86, -13.07, 13.72, -7.37, -55.67, -60.87, -45.74, -6.05, -18.19, -19.74, -1.1, -3.55, -20.74, -0.64, -3.31, -17.51, -1.09, -3.32], [81.0, 98.0, 125.0, 117.0, 90.0, 129.0, 89.0, 46.0, 76.0, 28.79, -50.31, -34.91, -25.59, -65.59, -71.75, -14.35, -16.71, -21.35, -16.7, 0.26, -2.5, -15.87, -0.79, -3.25, -14.96, -0.71, -2.72], [67.0, 31.0, 55.0, 102.0, 47.0, 89.0, 81.0, 23.0, 56.0, 36.04, 16.24, 34.0, -21.83, -23.89, -34.25, -13.77, 5.9, -2.28, -8.26, 0.54, -1.29, -3.51, 0.51, -0.59, -6.17, -0.81, -2.1], [61.0, 65.0, 83.0, 144.0, 58.0, 110.0, 139.0, 38.0, 76.0, 52.32, -13.22, 13.44, -44.13, -32.56, -49.8, -62.74, -7.4, -19.77, -15.81, -1.77, -2.89, -20.61, -1.02, -4.11, -16.34, -2.58, -4.78], [105.0, 160.0, 196.0, 131.0, 65.0, 109.0, 96.0, 40.0, 75.0, 7.66, -112.6, -106.12, -38.71, -40.47, -51.39, -19.3, -10.79, -20.43, -25.7, 0.7, -3.87, -22.34, -1.05, -4.52, -20.14, 2.24, -0.53], [58.0, 51.0, 67.0, 94.0, 65.0, 101.0, 111.0, 26.0, 56.0, 53.47, -1.53, 26.13, 2.01, -39.93, -41.94, -36.52, 4.14, -0.25, -17.32, 0.19, -3.26, -18.41, -0.82, -3.93, -15.67, -1.23, -3.91], [68.0, 27.0, 51.0, 100.0, 46.0, 87.0, 77.0, 23.0, 54.0, 43.73, 21.07, 39.75, -6.72, -21.35, -29.09, -1.87, 6.36, 0.74, -11.73, -1.81, -3.62, -14.88, -1.37, -4.35, -8.78, -2.34, -4.16], [62.0, 65.0, 90.0, 97.0, 85.0, 126.0, 92.0, 47.0, 83.0, 52.44, -12.71, 9.16, -2.96, -59.82, -66.06, -17.38, -17.95, -28.17, -19.07, -1.45, -4.35, -18.69, -0.58, -3.21, -16.36, -1.17, -3.39], [80.0, 29.0, 56.0, 114.0, 48.0, 92.0, 100.0, 25.0, 59.0, 34.37, 19.62, 37.23, -15.09, -23.14, -32.15, -23.54, 4.05, -4.41, -19.84, 1.56, -2.46, -20.46, -0.39, -4.35, -17.99, 0.11, -2.44], [63.0, 71.0, 95.0, 100.0, 87.0, 130.0, 79.0, 43.0, 77.0, 52.16, -18.5, 4.5, -4.83, -61.78, -69.99, -3.44, -13.77, -21.94, -19.55, -1.78, -4.91, -19.38, -0.6, -3.39, -17.04, -1.36, -3.63], [54.0, 33.0, 59.0, 78.0, 48.0, 87.0, 62.0, 23.0, 52.0, 58.71, 14.08, 30.44, 13.54, -23.59, -29.65, 14.77, 6.1, 2.36, -32.95, 1.42, -3.59, -29.02, -1.09, -5.37, -23.56, 4.26, 2.82], [64.0, 54.0, 71.0, 116.0, 63.0, 104.0, 127.0, 26.0, 59.0, 48.88, -2.53, 24.02, -14.78, -37.54, -43.87, -49.9, 5.12, -2.25, -17.76, -1.11, -2.88, -23.46, -0.93, -4.33, -19.48, -2.8, -5.18], [63.0, 68.0, 87.0, 115.0, 75.0, 120.0, 92.0, 42.0, 76.0, 51.09, -16.18, 10.95, -17.15, -49.64, -59.83, -16.63, -11.81, -20.05, -16.8, -1.61, -3.96, -19.47, -0.89, -3.82, -15.76, -2.4, -4.61], [72.0, 29.0, 56.0, 110.0, 48.0, 92.0, 94.0, 24.0, 59.0, 40.64, 19.45, 36.64, -17.29, -23.62, -34.17, -19.22, 5.13, -3.64, -19.15, 0.95, -3.0, -16.37, -0.33, -3.11, -15.9, 0.02, -3.22], [70.0, 29.0, 55.0, 106.0, 51.0, 93.0, 100.0, 25.0, 60.0, 37.74, 20.73, 38.36, -3.9, -25.2, -32.46, -32.17, 3.8, -6.0, -13.94, -0.55, -4.11, -25.68, -1.82, -5.91, -8.59, 0.14, -1.97], [81.0, 28.0, 52.0, 116.0, 46.0, 90.0, 91.0, 23.0, 57.0, 31.9, 18.86, 37.19, -26.1, -21.85, -32.95, -12.87, 5.79, -3.06, -25.17, 0.95, -3.19, -19.72, -0.76, -4.0, -21.24, 2.24, -0.37], [70.0, 29.0, 54.0, 114.0, 47.0, 89.0, 98.0, 25.0, 58.0, 45.73, 18.0, 36.15, -16.48, -22.26, -31.1, -18.38, 3.84, -3.31, -21.74, 0.95, -2.44, -21.3, -1.11, -3.8, -19.31, -0.56, -2.94], [78.0, 29.0, 53.0, 118.0, 48.0, 89.0, 101.0, 25.0, 58.0, 39.97, 19.0, 37.0, -18.9, -23.17, -31.0, -23.6, 3.74, -4.54, -23.56, 0.22, -2.02, -22.3, -1.09, -3.67, -16.88, -0.4, -1.67], [41.0, 40.0, 64.0, 85.0, 57.0, 96.0, 76.0, 23.0, 51.0, 70.52, 10.55, 29.79, 14.21, -31.69, -36.4, 0.11, 7.68, 5.21, -17.35, -0.48, -2.83, -22.33, -0.95, -4.31, -18.8, -2.06, -4.6], [45.0, 27.0, 49.0, 84.0, 49.0, 94.0, 60.0, 24.0, 55.0, 65.81, 24.74, 49.47, 6.34, -23.89, -34.36, 13.07, 4.73, -0.59, -26.97, -2.31, -5.66, -28.97, -1.42, -5.21, -26.09, -2.34, -4.84], [72.0, 28.0, 54.0, 109.0, 51.0, 97.0, 85.0, 25.0, 60.0, 37.56, 23.6, 44.36, -23.01, -26.08, -37.6, -14.33, 3.25, -6.38, -19.1, -0.61, -5.03, -16.02, -0.63, -3.48, -16.77, -1.15, -2.87], [56.0, 49.0, 69.0, 113.0, 63.0, 111.0, 109.0, 26.0, 58.0, 59.11, 4.04, 31.19, -15.32, -37.68, -50.91, -33.39, 4.44, -1.93, -18.84, -2.85, -5.54, -19.9, -0.9, -4.05, -16.65, -2.57, -4.89], [51.0, 53.0, 72.0, 88.0, 74.0, 111.0, 64.0, 39.0, 67.0, 61.26, -1.41, 23.57, 11.49, -48.59, -51.07, 11.6, -8.03, -10.57, -17.89, -0.82, -1.82, -21.4, -0.66, -3.75, -19.55, -3.05, -5.48], [57.0, 55.0, 73.0, 93.0, 72.0, 107.0, 99.0, 26.0, 57.0, 54.69, -5.93, 18.93, 1.62, -47.02, -48.44, -24.12, 3.51, -2.24, -18.23, 0.17, -2.02, -17.9, -0.94, -3.75, -15.88, -0.27, -2.59], [59.0, 53.0, 71.0, 110.0, 63.0, 107.0, 96.0, 26.0, 56.0, 52.6, -1.14, 27.58, -18.42, -37.92, -47.37, -21.79, 2.79, -1.47, -21.61, -0.9, -5.3, -22.3, -0.82, -3.78, -20.86, -1.76, -3.86], [78.0, 30.0, 56.0, 107.0, 50.0, 93.0, 84.0, 24.0, 57.0, 28.5, 19.5, 36.5, -23.34, -24.99, -35.98, -6.17, 6.02, -1.04, -12.8, 0.84, -2.32, -6.14, -0.41, -1.18, -18.9, 0.64, -3.3], [52.0, 59.0, 88.0, 95.0, 97.0, 136.0, 63.0, 55.0, 80.0, 63.49, -6.16, 11.9, 0.18, -71.86, -76.09, 13.49, -25.72, -24.92, -20.18, -1.11, -4.22, -18.82, -0.56, -3.14, -17.77, -1.37, -3.61], [52.0, 26.0, 48.0, 97.0, 50.0, 95.0, 85.0, 25.0, 58.0, 59.92, 25.56, 47.64, 2.14, -24.66, -35.15, -9.91, 5.63, -1.92, -17.13, -0.57, -0.84, -14.69, 0.24, -1.69, -21.44, -2.83, -6.45], [83.0, 28.0, 54.0, 119.0, 47.0, 92.0, 97.0, 25.0, 58.0, 35.13, 19.08, 36.0, -21.66, -22.54, -34.77, -15.03, 3.64, -4.34, -24.81, 0.01, -3.09, -22.39, -1.2, -3.83, -22.61, -1.07, -2.47], [58.0, 30.0, 52.0, 93.0, 49.0, 91.0, 72.0, 24.0, 56.0, 48.54, 20.88, 41.12, -0.35, -23.63, -32.4, 1.8, 6.38, -0.52, -14.04, -2.58, -4.12, -18.42, -1.05, -2.99, -13.19, 0.48, -3.01], [54.0, 26.0, 49.0, 87.0, 44.0, 84.0, 66.0, 22.0, 51.0, 59.69, 21.36, 41.34, 5.85, -19.49, -26.53, 11.46, 7.05, 3.43, -26.07, -2.71, -5.96, -27.46, -2.55, -6.69, -22.5, -1.91, -4.68], [54.0, 27.0, 51.0, 87.0, 53.0, 91.0, 72.0, 25.0, 55.0, 57.61, 23.97, 43.95, 12.4, -27.69, -31.23, 3.35, 5.42, 0.91, -19.67, 0.45, -4.2, -27.26, -0.23, -5.13, -18.94, -2.92, -5.16], [60.0, 28.0, 48.0, 102.0, 45.0, 86.0, 80.0, 24.0, 53.0, 53.88, 18.75, 41.97, -10.94, -20.8, -29.54, -3.19, 4.36, 0.52, -15.47, -1.13, -3.15, -13.56, -1.02, -3.55, -16.54, -2.34, -4.27], [60.0, 46.0, 73.0, 114.0, 69.0, 116.0, 92.0, 29.0, 63.0, 55.13, 6.6, 26.39, -19.22, -43.95, -56.32, -15.33, 0.09, -8.1, -21.34, -0.46, -3.55, -20.09, -0.56, -3.17, -19.49, -1.32, -3.74], [57.0, 35.0, 59.0, 94.0, 66.0, 102.0, 90.0, 32.0, 67.0, 50.24, 19.42, 36.3, 1.83, -40.01, -41.65, -15.77, -1.24, -11.63, -11.34, 12.46, 7.37, -3.82, 3.44, 3.94, -16.84, 8.84, 7.79], [72.0, 30.0, 55.0, 99.0, 49.0, 92.0, 89.0, 23.0, 57.0, 28.4, 19.5, 36.63, -8.66, -24.23, -34.49, -27.7, 7.03, -2.78, -6.65, 1.35, -0.08, -12.15, -0.09, -1.59, -2.95, 0.61, -1.48], [67.0, 28.0, 52.0, 102.0, 51.0, 96.0, 84.0, 26.0, 59.0, 49.76, 26.5, 51.14, -4.07, -25.49, -35.28, -7.74, 4.59, -2.76, -16.48, -3.73, -6.58, -14.52, -0.02, -1.57, -10.8, -2.16, -4.29], [81.0, 33.0, 56.0, 109.0, 55.0, 95.0, 100.0, 26.0, 61.0, 25.86, 22.99, 40.0, -9.52, -27.78, -33.04, -24.53, 6.13, -5.33, -12.49, -0.85, 2.86, -17.39, -1.27, -3.74, -17.28, 2.12, -0.14], [65.0, 28.0, 51.0, 99.0, 49.0, 88.0, 78.0, 24.0, 54.0, 45.08, 22.3, 41.8, -4.87, -23.87, -29.23, -3.3, 5.73, 0.85, -13.94, -2.43, -4.5, -14.84, -1.29, -4.59, -13.26, -1.71, -3.74], [79.0, 27.0, 53.0, 115.0, 47.0, 92.0, 89.0, 24.0, 57.0, 34.07, 19.5, 36.89, -28.43, -23.27, -36.37, -13.44, 3.24, -4.74, -18.88, 0.11, -3.07, -11.07, -0.6, -2.42, -15.76, -0.24, -1.52], [57.0, 44.0, 67.0, 135.0, 58.0, 111.0, 112.0, 25.0, 55.0, 60.76, 10.38, 35.83, -37.67, -32.5, -50.27, -34.52, 5.02, 0.85, -22.2, -2.72, -7.0, -19.67, -1.0, -4.22, -18.81, -2.16, -4.66], [64.0, 27.0, 51.0, 99.0, 50.0, 96.0, 89.0, 26.0, 58.0, 56.23, 29.79, 55.97, 2.27, -23.27, -33.03, -10.79, 6.53, 0.32, -19.99, -6.19, -10.83, -18.34, -1.77, -5.75, -15.9, -4.67, -6.65], [47.0, 25.0, 48.0, 86.0, 46.0, 88.0, 60.0, 21.0, 50.0, 64.01, 25.77, 46.48, 12.39, -20.75, -28.49, 14.59, 9.36, 5.74, -23.82, -4.02, -6.88, -36.72, -3.27, -8.51, -27.68, -5.22, -7.36], [58.0, 58.0, 76.0, 109.0, 80.0, 121.0, 64.0, 48.0, 70.0, 59.55, -4.03, 25.95, -11.91, -54.61, -60.54, 13.63, -18.2, -14.35, -22.27, -2.19, -6.03, -19.7, -0.9, -3.99, -19.17, -1.93, -4.48], [66.0, 27.0, 50.0, 96.0, 47.0, 87.0, 78.0, 22.0, 53.0, 47.68, 20.05, 40.16, -3.84, -22.62, -30.04, -1.19, 6.81, 1.02, -17.88, -0.51, -3.03, -13.77, -2.05, -3.93, -11.3, -1.68, -3.01], [81.0, 32.0, 57.0, 120.0, 56.0, 107.0, 105.0, 28.0, 63.0, 39.6, 25.0, 50.2, -16.28, -28.61, -43.4, -26.41, 6.51, -2.69, -23.35, -6.07, -11.21, -24.13, -2.77, -7.07, -18.7, -6.65, -8.99], [40.0, 25.0, 47.0, 81.0, 49.0, 87.0, 74.0, 24.0, 55.0, 69.79, 24.89, 45.49, 13.05, -23.97, -28.46, 0.32, 5.44, -0.46, -28.43, -1.28, -5.49, -25.56, -1.42, -5.88, -27.55, -2.63, -5.26], [53.0, 67.0, 97.0, 76.0, 88.0, 130.0, 54.0, 56.0, 92.0, 64.01, -14.03, 2.69, 20.05, -63.04, -70.47, 24.33, -27.03, -37.12, -22.74, 0.14, -2.32, -20.47, -0.54, -3.14, -20.83, -1.13, -3.84], [58.0, 27.0, 49.0, 95.0, 46.0, 89.0, 81.0, 22.0, 55.0, 50.55, 23.7, 44.1, -0.59, -20.87, -30.22, -7.63, 7.6, -0.41, -13.32, -3.52, -4.35, -15.3, -1.69, -4.49, -15.93, -3.31, -5.5], [47.0, 38.0, 60.0, 121.0, 57.0, 108.0, 91.0, 25.0, 54.0, 70.75, 14.9, 39.4, -24.32, -32.09, -48.69, -11.99, 4.14, 1.06, -23.04, 0.36, -1.65, -20.31, -0.44, -2.86, -21.01, -1.15, -3.95], [50.0, 27.0, 50.0, 79.0, 45.0, 84.0, 68.0, 23.0, 54.0, 62.24, 20.9, 41.68, 15.56, -20.35, -25.68, 7.93, 6.19, 0.54, -30.47, -2.34, -7.63, -29.62, -1.71, -5.83, -26.83, -0.92, -2.18], [66.0, 29.0, 53.0, 99.0, 52.0, 96.0, 89.0, 25.0, 57.0, 51.71, 24.54, 48.11, 1.82, -26.67, -35.51, -9.96, 4.93, -1.27, -19.44, -1.27, -4.94, -15.68, -0.5, -3.61, -15.16, -1.06, -3.76], [80.0, 28.0, 54.0, 115.0, 52.0, 95.0, 93.0, 24.0, 58.0, 35.9, 23.96, 42.79, -22.48, -28.24, -38.08, -14.27, 3.82, -4.44, -20.87, 1.88, 1.84, -15.21, 0.83, -0.26, -20.32, 0.55, -2.29], [53.0, 26.0, 50.0, 91.0, 50.0, 94.0, 66.0, 22.0, 53.0, 65.03, 27.79, 51.52, 9.7, -24.66, -33.49, 13.24, 7.92, 2.75, -27.07, -3.05, -7.77, -35.23, -2.38, -7.44, -26.98, -3.24, -5.96], [89.0, 30.0, 58.0, 122.0, 54.0, 101.0, 102.0, 25.0, 59.0, 32.05, 23.21, 43.07, -20.01, -28.4, -40.46, -19.41, 5.38, -2.23, -26.01, 0.72, -2.45, -24.49, -0.96, -3.86, -24.05, -1.86, -5.44], [46.0, 28.0, 50.0, 82.0, 51.0, 90.0, 67.0, 24.0, 54.0, 67.16, 22.52, 45.32, 17.56, -25.99, -30.28, 9.21, 5.74, 1.17, -31.34, -0.8, -5.32, -40.37, -2.43, -7.94, -34.14, -3.82, -6.47], [53.0, 45.0, 66.0, 102.0, 55.0, 100.0, 89.0, 25.0, 54.0, 57.37, 4.92, 27.73, -4.26, -30.05, -41.0, -15.03, 4.47, 0.73, -19.14, -0.45, -3.55, -22.47, -0.99, -4.81, -18.85, -0.54, -3.02], [54.0, 50.0, 69.0, 101.0, 64.0, 107.0, 104.0, 26.0, 55.0, 64.92, 3.86, 32.05, -1.69, -38.85, -46.97, -23.48, 3.46, 0.47, -24.38, -0.08, -2.97, -22.39, -0.82, -3.83, -22.89, -1.58, -4.54], [61.0, 29.0, 52.0, 96.0, 55.0, 100.0, 78.0, 26.0, 57.0, 58.07, 24.23, 48.23, 2.59, -29.96, -40.32, 2.7, 3.27, -1.66, -23.97, 1.38, -1.56, -20.0, 0.21, -2.51, -21.23, 0.2, -3.25], [85.0, 29.0, 55.0, 122.0, 55.0, 103.0, 101.0, 26.0, 62.0, 34.29, 25.14, 47.14, -24.14, -29.72, -42.15, -20.86, 2.45, -7.41, -23.62, 0.21, -2.47, -19.65, -0.72, -3.93, -21.59, -0.18, -3.34], [46.0, 41.0, 61.0, 117.0, 58.0, 109.0, 86.0, 24.0, 55.0, 71.9, 12.26, 39.3, -16.21, -32.81, -48.79, -6.57, 5.65, 0.48, -23.73, -1.15, -5.57, -25.8, -1.15, -4.97, -22.48, -2.03, -4.66], [59.0, 28.0, 53.0, 95.0, 49.0, 91.0, 77.0, 23.0, 54.0, 53.27, 22.12, 41.73, 3.5, -24.11, -31.56, -1.79, 6.62, 1.01, -17.2, -1.35, -3.23, -20.21, -1.25, -6.04, -19.1, 1.25, -1.43], [76.0, 29.0, 54.0, 115.0, 49.0, 95.0, 97.0, 24.0, 60.0, 36.6, 21.0, 40.8, -17.27, -24.3, -35.1, -22.19, 5.6, -5.09, -20.95, -0.72, -3.97, -24.83, -1.08, -6.17, -20.37, -1.34, -3.89], [62.0, 27.0, 49.0, 90.0, 46.0, 86.0, 82.0, 24.0, 55.0, 49.97, 21.2, 43.67, 4.47, -21.28, -27.2, -5.54, 5.43, -0.05, -21.31, -2.03, -5.75, -12.54, -0.73, -3.09, -14.55, -1.76, -3.87], [57.0, 42.0, 61.0, 107.0, 66.0, 106.0, 101.0, 25.0, 54.0, 62.14, 11.83, 39.99, -7.93, -40.9, -46.09, -20.14, 4.31, 1.38, -24.06, 0.61, -2.21, -20.79, -0.5, -3.23, -22.28, -0.88, -4.12], [67.0, 48.0, 68.0, 110.0, 72.0, 115.0, 81.0, 34.0, 66.0, 51.87, 5.77, 33.27, -11.84, -46.93, -54.94, -0.7, -5.02, -10.97, -23.25, 0.65, -1.84, -19.67, -0.48, -3.16, -21.6, -0.63, -3.77], [53.0, 48.0, 65.0, 87.0, 60.0, 98.0, 95.0, 25.0, 54.0, 57.03, 0.61, 27.42, 8.72, -35.13, -39.23, -20.53, 4.43, 0.79, -19.23, -0.77, -5.12, -17.62, -1.03, -4.42, -16.84, -1.09, -3.24], [63.0, 29.0, 52.0, 97.0, 55.0, 101.0, 79.0, 24.0, 58.0, 55.96, 24.94, 49.71, 1.09, -29.88, -40.69, 1.18, 4.9, -3.05, -21.48, 0.56, -1.71, -17.89, -0.45, -2.56, -20.45, -0.54, -3.5], [74.0, 40.0, 61.0, 110.0, 66.0, 110.0, 111.0, 29.0, 68.0, 45.06, 14.11, 40.33, -11.05, -40.91, -50.03, -30.16, 0.21, -12.73, -23.93, 0.49, -2.37, -20.46, -0.52, -3.26, -22.27, -0.89, -4.06], [62.0, 51.0, 68.0, 99.0, 63.0, 98.0, 115.0, 27.0, 57.0, 51.45, -3.04, 25.05, -3.08, -38.33, -38.84, -36.86, 2.33, -1.87, -23.41, -1.64, -6.52, -21.62, -1.39, -5.74, -20.49, -1.22, -3.76], [51.0, 28.0, 50.0, 86.0, 45.0, 86.0, 63.0, 22.0, 50.0, 62.15, 20.37, 43.8, 9.59, -20.19, -26.36, 14.67, 7.52, 5.3, -27.2, -3.47, -8.4, -30.45, -2.53, -8.66, -23.76, -0.93, -3.17], [72.0, 77.0, 92.0, 98.0, 98.0, 125.0, 96.0, 39.0, 70.0, 41.46, -28.91, 1.47, -2.01, -73.29, -65.54, -17.56, -9.56, -14.62, -22.7, -1.8, -6.67, -20.66, -1.37, -5.89, -20.25, -1.43, -4.22], [46.0, 47.0, 72.0, 81.0, 57.0, 94.0, 88.0, 26.0, 53.0, 63.97, 1.39, 20.44, 14.62, -32.22, -35.23, -13.39, 3.47, 1.88, -20.1, -0.65, -5.92, -17.73, -0.96, -4.51, -17.3, -0.9, -3.1], [59.0, 67.0, 81.0, 85.0, 81.0, 114.0, 86.0, 38.0, 68.0, 53.11, -18.74, 12.34, 10.15, -56.22, -54.7, -9.19, -8.43, -12.76, -21.3, -1.83, -6.49, -18.61, -1.32, -5.49, -18.37, -1.65, -4.16], [54.0, 27.0, 50.0, 93.0, 46.0, 86.0, 80.0, 23.0, 53.0, 55.22, 21.5, 42.8, 5.22, -21.1, -27.14, -6.65, 6.48, 1.87, -15.61, -1.5, -5.8, -12.59, -0.69, -4.42, -12.18, -1.8, -4.45], [49.0, 38.0, 58.0, 100.0, 62.0, 108.0, 106.0, 26.0, 57.0, 70.53, 17.42, 44.9, 0.06, -36.84, -47.72, -24.47, 3.29, -1.64, -25.04, -0.83, -3.82, -22.12, -0.86, -3.97, -23.79, -1.6, -4.53], [86.0, 30.0, 57.0, 119.0, 57.0, 104.0, 101.0, 25.0, 62.0, 34.17, 26.44, 46.83, -17.7, -31.72, -43.39, -17.3, 4.11, -6.56, -25.69, -1.18, -4.63, -21.69, -0.95, -3.98, -25.36, -1.36, -4.51], [59.0, 27.0, 51.0, 94.0, 46.0, 87.0, 76.0, 24.0, 54.0, 54.98, 21.59, 43.47, 2.57, -20.98, -26.45, 3.47, 5.56, 1.78, -20.44, -1.91, -5.9, -20.01, -1.26, -5.56, -19.57, -1.7, -5.04], [59.0, 28.0, 51.0, 93.0, 57.0, 98.0, 86.0, 26.0, 59.0, 60.96, 28.2, 52.66, 7.43, -31.79, -37.53, -3.45, 3.19, -3.64, -25.47, -0.24, -4.57, -18.6, -0.96, -3.52, -23.25, -1.44, -4.28], [69.0, 72.0, 94.0, 90.0, 79.0, 120.0, 79.0, 43.0, 72.0, 43.71, -22.33, 0.06, 9.54, -54.27, -60.89, -3.23, -13.67, -17.18, -21.29, -0.48, -4.03, -28.07, -1.29, -6.06, -19.32, -0.67, -3.45], [54.0, 46.0, 73.0, 107.0, 61.0, 107.0, 97.0, 25.0, 52.0, 64.83, 7.09, 26.61, -5.23, -35.99, -47.02, -16.52, 4.26, 3.15, -24.22, 0.27, -2.29, -25.15, -0.87, -4.29, -23.19, -1.56, -4.28], [58.0, 30.0, 52.0, 91.0, 50.0, 90.0, 68.0, 23.0, 53.0, 55.28, 19.94, 42.55, 8.99, -25.21, -30.79, 8.27, 6.39, 1.89, -22.52, -0.27, -4.55, -33.18, -1.63, -7.13, -19.05, -0.53, -3.21], [85.0, 30.0, 57.0, 117.0, 49.0, 94.0, 93.0, 25.0, 60.0, 28.92, 18.69, 37.62, -20.88, -23.78, -32.93, -13.08, 4.26, -4.0, -21.87, -2.2, -6.5, -19.5, -1.68, -6.94, -20.61, -1.24, -4.91], [71.0, 29.0, 55.0, 109.0, 47.0, 93.0, 102.0, 25.0, 58.0, 37.6, 19.0, 37.6, -6.44, -22.0, -34.2, -31.39, 4.2, -3.4, -17.16, 0.25, -5.07, -23.18, -1.03, -4.48, -12.95, -0.73, -3.06], [73.0, 28.0, 53.0, 112.0, 49.0, 93.0, 98.0, 24.0, 60.0, 37.88, 20.65, 39.71, -16.52, -25.04, -34.47, -25.45, 4.18, -6.13, -19.52, 0.0, -2.98, -20.99, -0.39, -5.04, -16.54, 0.23, -2.69], [59.0, 29.0, 52.0, 94.0, 57.0, 102.0, 93.0, 26.0, 58.0, 60.47, 26.35, 50.82, 6.11, -31.85, -41.75, -11.48, 3.21, -2.7, -26.15, 2.23, -1.82, -13.57, 0.04, -2.06, -21.93, -1.31, -4.4], [51.0, 32.0, 55.0, 77.0, 45.0, 85.0, 68.0, 24.0, 52.0, 58.24, 16.19, 37.27, 19.92, -20.28, -26.25, 6.12, 5.46, 2.91, -32.24, -2.1, -8.85, -29.88, -2.04, -6.98, -25.53, 0.17, -1.84], [86.0, 28.0, 53.0, 123.0, 54.0, 99.0, 108.0, 25.0, 60.0, 34.15, 24.67, 45.96, -19.36, -29.33, -39.07, -26.6, 3.21, -5.91, -25.7, -0.06, -2.75, -27.53, -0.69, -4.67, -23.96, -0.43, -3.09], [54.0, 48.0, 66.0, 87.0, 63.0, 98.0, 123.0, 27.0, 58.0, 57.56, 1.35, 27.57, 12.04, -38.33, -39.11, -48.28, 2.17, -3.38, -20.04, -0.61, -4.32, -22.48, -0.85, -4.92, -17.98, -0.31, -2.84], [92.0, 30.0, 57.0, 121.0, 48.0, 95.0, 101.0, 24.0, 60.0, 27.79, 18.25, 37.38, -18.9, -23.19, -34.44, -12.53, 7.72, -1.44, -25.49, -1.46, -5.92, -20.99, -0.98, -5.94, -26.05, -3.18, -7.15], [53.0, 40.0, 60.0, 101.0, 59.0, 102.0, 97.0, 25.0, 54.0, 64.25, 12.01, 38.11, 1.42, -34.09, -42.35, -17.37, 4.26, 1.04, -23.67, -0.48, -4.12, -27.76, -1.14, -5.03, -23.0, -1.45, -4.09], [66.0, 28.0, 52.0, 98.0, 47.0, 88.0, 83.0, 25.0, 57.0, 51.09, 20.24, 42.22, 0.63, -22.18, -27.75, -0.59, 5.46, -0.29, -17.52, -1.06, -5.42, -9.42, -0.38, -4.25, -12.75, -1.27, -4.55], [65.0, 28.0, 52.0, 93.0, 49.0, 90.0, 74.0, 24.0, 56.0, 46.96, 21.66, 42.08, 6.71, -24.22, -31.02, 1.5, 5.36, -1.17, -20.99, -0.98, -4.89, -21.32, -0.74, -4.57, -17.49, 0.37, -1.98], [83.0, 29.0, 54.0, 120.0, 51.0, 95.0, 108.0, 25.0, 61.0, 36.19, 21.0, 42.0, -14.86, -26.2, -35.4, -24.68, 4.21, -5.81, -27.05, -0.83, -5.72, -30.5, -1.17, -5.8, -26.93, -1.03, -4.09], [56.0, 26.0, 50.0, 94.0, 50.0, 87.0, 83.0, 24.0, 54.0, 53.57, 21.97, 43.47, 2.0, -25.22, -27.11, -8.04, 5.69, 1.43, -12.99, 0.23, -5.97, -14.35, -0.55, -5.4, -14.51, -2.68, -5.15], [82.0, 30.0, 56.0, 113.0, 48.0, 94.0, 98.0, 24.0, 60.0, 29.68, 18.15, 38.23, -17.56, -23.01, -33.02, -20.34, 6.01, -3.83, -17.85, -0.83, -6.74, -15.41, -1.11, -6.7, -17.78, -2.53, -5.31], [56.0, 26.0, 51.0, 96.0, 55.0, 99.0, 72.0, 22.0, 54.0, 63.07, 28.12, 50.19, 5.71, -29.87, -38.94, 9.31, 7.35, 1.33, -22.55, 1.43, -2.64, -27.76, -2.02, -5.59, -25.3, -3.26, -5.95], [58.0, 62.0, 86.0, 85.0, 61.0, 93.0, 88.0, 24.0, 53.0, 45.29, -14.57, 5.06, 11.38, -36.43, -34.66, -18.39, 5.31, 1.53, -9.95, -0.19, -3.63, -16.56, -0.73, -4.12, -10.08, -1.78, -3.64], [55.0, 58.0, 76.0, 89.0, 84.0, 118.0, 83.0, 36.0, 69.0, 62.31, -5.84, 22.37, 13.68, -59.12, -58.43, -2.94, -6.73, -13.94, -23.2, -0.1, -3.45, -27.1, -1.0, -4.68, -22.83, -1.41, -4.02], [65.0, 28.0, 53.0, 100.0, 47.0, 90.0, 98.0, 25.0, 58.0, 35.74, 19.29, 37.57, -2.93, -22.56, -32.41, -33.15, 3.9, -4.47, -7.81, -0.18, -3.18, -17.45, -0.65, -3.4, -5.43, -1.22, -2.56], [62.0, 28.0, 51.0, 96.0, 46.0, 89.0, 87.0, 24.0, 56.0, 45.26, 19.6, 39.9, -0.36, -21.47, -30.92, -14.43, 5.45, -1.11, -12.49, -0.84, -3.09, -4.75, -0.13, -2.29, -11.45, -1.57, -4.16], [56.0, 27.0, 51.0, 93.0, 60.0, 101.0, 71.0, 24.0, 55.0, 62.77, 27.03, 50.2, 6.91, -34.9, -40.95, 9.68, 5.23, 0.24, -23.82, 2.07, -1.0, -35.11, -2.05, -6.94, -28.6, -2.97, -5.27], [58.0, 25.0, 48.0, 98.0, 46.0, 89.0, 73.0, 22.0, 53.0, 55.25, 25.26, 47.0, 3.64, -21.21, -29.95, 3.52, 7.18, 1.73, -14.78, -3.71, -5.5, -20.27, -1.61, -5.54, -14.66, -2.17, -4.37], [82.0, 29.0, 54.0, 119.0, 50.0, 98.0, 105.0, 25.0, 59.0, 34.9, 23.4, 45.0, -15.9, -25.4, -38.8, -24.31, 4.1, -4.1, -23.78, -1.23, -6.22, -28.14, -0.99, -5.08, -24.09, -1.2, -3.95], [55.0, 61.0, 90.0, 75.0, 55.0, 91.0, 84.0, 24.0, 54.0, 57.14, -13.14, 2.87, 20.93, -30.36, -31.88, -6.73, 5.47, 1.28, -20.84, -1.47, -5.72, -18.73, -1.18, -5.22, -17.81, -1.28, -3.87], [66.0, 69.0, 93.0, 90.0, 63.0, 100.0, 99.0, 25.0, 57.0, 45.97, -20.93, 0.18, 6.34, -38.24, -40.56, -21.73, 4.74, -1.5, -19.64, -1.45, -5.6, -17.03, -1.08, -5.15, -16.77, -1.46, -4.03], [79.0, 30.0, 55.0, 115.0, 51.0, 96.0, 109.0, 25.0, 59.0, 35.4, 22.19, 41.2, -3.31, -25.44, -36.8, -28.94, 5.27, -3.66, -22.4, -3.91, -6.61, -36.29, -2.13, -5.77, -23.32, -2.09, -4.13], [69.0, 27.0, 53.0, 106.0, 47.0, 90.0, 87.0, 24.0, 55.0, 35.81, 19.86, 36.67, -18.69, -23.24, -33.71, -18.59, 4.87, -0.88, -13.32, 0.16, -2.39, -7.12, 0.02, -2.06, -10.04, -0.74, -2.88], [80.0, 29.0, 55.0, 116.0, 50.0, 95.0, 102.0, 25.0, 59.0, 34.08, 21.8, 40.86, -14.76, -24.92, -35.71, -24.53, 4.0, -4.19, -21.98, -2.12, -6.03, -26.08, -1.67, -5.82, -20.91, -0.9, -3.7]]\n",
      "['b1', 'b2', 'b3', 'b4', 'b5', 'b6', 'b7', 'b8', 'b9', 'pred_minus_obs_H_b1', 'pred_minus_obs_H_b2', 'pred_minus_obs_H_b3', 'pred_minus_obs_H_b4', 'pred_minus_obs_H_b5', 'pred_minus_obs_H_b6', 'pred_minus_obs_H_b7', 'pred_minus_obs_H_b8', 'pred_minus_obs_H_b9', 'pred_minus_obs_S_b1', 'pred_minus_obs_S_b2', 'pred_minus_obs_S_b3', 'pred_minus_obs_S_b4', 'pred_minus_obs_S_b5', 'pred_minus_obs_S_b6', 'pred_minus_obs_S_b7', 'pred_minus_obs_S_b8', 'pred_minus_obs_S_b9']\n"
     ]
    }
   ],
   "source": [
    "print(forest_target2)\n",
    "print(forest_data2)\n",
    "print(forest_feature_names2)"
   ]
  },
  {
   "cell_type": "code",
   "execution_count": 208,
   "id": "6e2b1cee",
   "metadata": {},
   "outputs": [
    {
     "name": "stdout",
     "output_type": "stream",
     "text": [
      "0.8686868686868687\n",
      "[[55  2  2  0]\n",
      " [12 32  4  0]\n",
      " [ 0  0 53  1]\n",
      " [ 0  0  5 32]]\n"
     ]
    }
   ],
   "source": [
    "#build decision tree 1\n",
    "from sklearn import tree\n",
    "clf=tree.DecisionTreeClassifier(max_depth=3)\n",
    "clf=clf.fit(forest_data,forest_target)\n",
    "\n",
    "import numpy as np\n",
    "forest_target_names=[\"'Sugi' forest\",\"'Hinoki' forest\",\"'Mixed deciduous' forest\",\"'Other' non-forest land\"]\n",
    "forestTest= np.array(forest_data2)\n",
    "prediction= clf.predict(forestTest)\n",
    "# print(forest_target_names[prediction])\n",
    "\n",
    "from sklearn.metrics import accuracy_score\n",
    "print(accuracy_score(forest_target2,prediction))\n",
    "\n",
    "from sklearn.metrics import confusion_matrix\n",
    "print(confusion_matrix(forest_target2,prediction))"
   ]
  },
  {
   "cell_type": "code",
   "execution_count": 214,
   "id": "9742fc57",
   "metadata": {},
   "outputs": [
    {
     "name": "stdout",
     "output_type": "stream",
     "text": [
      "['b1', 'b2', 'b3', 'b4', 'b5', 'b6', 'b7', 'b8', 'b9', 'pred_minus_obs_H_b1', 'pred_minus_obs_H_b2', 'pred_minus_obs_H_b3', 'pred_minus_obs_H_b4', 'pred_minus_obs_H_b5', 'pred_minus_obs_H_b6', 'pred_minus_obs_H_b7', 'pred_minus_obs_H_b8', 'pred_minus_obs_H_b9', 'pred_minus_obs_S_b1', 'pred_minus_obs_S_b2', 'pred_minus_obs_S_b3', 'pred_minus_obs_S_b4', 'pred_minus_obs_S_b5', 'pred_minus_obs_S_b6', 'pred_minus_obs_S_b7', 'pred_minus_obs_S_b8', 'pred_minus_obs_S_b9']\n",
      "[[1 1 1 0 1 0 0 0 0 0 0 0 0 0 0]]\n",
      "b4 is 109.0pred_minus_obs_S_b4 is -18.88\n",
      "\n",
      "\n",
      "[[1 1 1 0 1 0 0 0 0 0 0 0 0 0 0]]\n",
      "b4 is 104.0pred_minus_obs_S_b4 is -10.57\n",
      "\n",
      "\n",
      "[[1 1 1 0 1 0 0 0 0 0 0 0 0 0 0]]\n",
      "b4 is 107.0pred_minus_obs_S_b4 is -10.48\n",
      "\n",
      "\n",
      "[[1 1 1 0 1 0 0 0 0 0 0 0 0 0 0]]\n",
      "b4 is 102.0pred_minus_obs_S_b4 is -3.51\n",
      "\n",
      "\n",
      "[[1 1 1 0 1 0 0 0 0 0 0 0 0 0 0]]\n",
      "b4 is 106.0pred_minus_obs_S_b4 is -25.68\n",
      "\n",
      "\n",
      "[[1 1 1 0 1 0 0 0 0 0 0 0 0 0 0]]\n",
      "b4 is 109.0pred_minus_obs_S_b4 is -16.02\n",
      "\n",
      "\n",
      "[[1 1 1 0 1 0 0 0 0 0 0 0 0 0 0]]\n",
      "b4 is 107.0pred_minus_obs_S_b4 is -6.14\n",
      "\n",
      "\n",
      "[[1 1 1 0 1 0 0 0 0 0 0 0 0 0 0]]\n",
      "b4 is 99.0pred_minus_obs_S_b4 is -12.15\n",
      "\n",
      "\n",
      "[[1 1 1 0 1 0 0 0 0 0 0 0 0 0 0]]\n",
      "b4 is 109.0pred_minus_obs_S_b4 is -17.39\n",
      "\n",
      "\n",
      "[[1 1 1 0 1 0 0 0 0 0 0 0 0 0 0]]\n",
      "b4 is 109.0pred_minus_obs_S_b4 is -23.18\n",
      "\n",
      "\n",
      "[[1 1 1 0 1 0 0 0 0 0 0 0 0 0 0]]\n",
      "b4 is 100.0pred_minus_obs_S_b4 is -17.45\n",
      "\n",
      "\n",
      "[[1 1 1 0 1 0 0 0 0 0 0 0 0 0 0]]\n",
      "b4 is 106.0pred_minus_obs_S_b4 is -7.12\n",
      "\n",
      "\n"
     ]
    }
   ],
   "source": [
    "x=prediction.size\n",
    "print(forest_feature_names2)\n",
    "for i in range(x):\n",
    "    if prediction[i]==0 and forest_target2[i]==1:\n",
    "        print(clf.decision_path(forestTest).todense()[i])\n",
    "       # print(i)\n",
    "        print('b4 is '+str( forest_data2[i][3])+'pred_minus_obs_S_b4 is '+str( forest_data2[i][21]))\n",
    "        print('\\n')"
   ]
  },
  {
   "cell_type": "code",
   "execution_count": 195,
   "id": "cf55cd1d",
   "metadata": {},
   "outputs": [
    {
     "name": "stdout",
     "output_type": "stream",
     "text": [
      "['b1', 'b2', 'b3', 'b4', 'b5', 'b6', 'b7', 'b8', 'b9', 'pred_minus_obs_H_b1', 'pred_minus_obs_H_b2', 'pred_minus_obs_H_b3', 'pred_minus_obs_H_b4', 'pred_minus_obs_H_b5', 'pred_minus_obs_H_b6', 'pred_minus_obs_H_b7', 'pred_minus_obs_H_b8', 'pred_minus_obs_H_b9', 'pred_minus_obs_S_b1', 'pred_minus_obs_S_b2', 'pred_minus_obs_S_b3', 'pred_minus_obs_S_b4', 'pred_minus_obs_S_b5', 'pred_minus_obs_S_b6', 'pred_minus_obs_S_b7', 'pred_minus_obs_S_b8', 'pred_minus_obs_S_b9']\n",
      "8\n",
      "[77.0, 29.0, 52.0, 103.0, 51.0, 93.0, 87.0, 27.0, 59.0, 37.41, 21.81, 45.28, -5.06, -25.05, -31.18, -9.42, 4.8, -1.07, -16.86, -2.31, -6.72, -20.25, -1.77, -6.29, -23.0, -6.11, -8.57]\n",
      "13\n",
      "[81.0, 27.0, 52.0, 112.0, 51.0, 94.0, 95.0, 26.0, 60.0, 33.48, 24.02, 45.57, -12.84, -24.82, -31.35, -18.31, 3.06, -4.71, -20.9, -1.64, -5.95, -27.18, -1.32, -5.96, -21.38, -1.73, -4.47]\n",
      "41\n",
      "[76.0, 29.0, 54.0, 105.0, 49.0, 94.0, 89.0, 25.0, 60.0, 33.89, 21.84, 43.72, -10.34, -22.53, -30.72, -18.71, 3.78, -5.17, -14.42, -0.77, -2.74, -17.65, -0.83, -4.67, -11.17, -0.27, -2.78]\n",
      "58\n",
      "[67.0, 32.0, 56.0, 102.0, 55.0, 99.0, 96.0, 28.0, 62.0, 45.58, 18.7, 41.57, -7.05, -28.82, -36.52, -22.38, 0.91, -6.93, -15.75, -0.42, -1.83, -15.43, -0.36, -3.23, -12.77, -0.18, -2.61]\n",
      "64\n",
      "[71.0, 27.0, 53.0, 109.0, 49.0, 96.0, 95.0, 26.0, 59.0, 43.06, 23.47, 43.96, -12.22, -23.2, -34.4, -19.8, 2.85, -4.05, -19.19, -0.74, -4.01, -22.02, -0.87, -4.6, -17.72, -1.15, -3.69]\n",
      "121\n",
      "[79.0, 29.0, 53.0, 106.0, 51.0, 96.0, 93.0, 25.0, 60.0, 33.89, 21.71, 43.9, -13.02, -25.64, -35.79, -20.14, 3.8, -5.29, -17.9, -0.46, -2.47, -18.64, -0.5, -2.99, -14.82, -0.83, -3.03]\n",
      "125\n",
      "[66.0, 29.0, 52.0, 97.0, 49.0, 92.0, 101.0, 27.0, 59.0, 49.29, 21.68, 43.26, 3.12, -23.66, -31.59, -22.69, 3.83, -2.19, -22.71, -1.44, -6.43, -23.48, -1.19, -5.76, -20.26, -2.09, -4.83]\n",
      "169\n",
      "[68.0, 31.0, 54.0, 106.0, 53.0, 97.0, 94.0, 27.0, 59.0, 47.57, 21.87, 46.15, -10.86, -27.81, -37.01, -18.39, 2.4, -3.84, -19.48, -1.87, -5.15, -18.52, -0.52, -3.22, -16.6, -1.46, -3.65]\n",
      "199\n",
      "[74.0, 34.0, 56.0, 104.0, 57.0, 96.0, 115.0, 28.0, 63.0, 32.22, 19.97, 38.94, -8.61, -31.07, -35.91, -42.15, 2.79, -7.72, -12.23, -1.47, -0.13, -15.57, -0.77, -3.3, -14.59, 1.2, -1.49]\n",
      "222\n",
      "[63.0, 35.0, 56.0, 100.0, 51.0, 94.0, 104.0, 26.0, 57.0, 45.23, 15.42, 37.07, -3.72, -25.86, -35.12, -30.84, 3.97, -1.92, -16.85, -0.37, -2.51, -20.64, -0.93, -4.14, -17.73, -0.83, -3.21]\n",
      "259\n",
      "[54.0, 29.0, 51.0, 88.0, 51.0, 91.0, 95.0, 24.0, 55.0, 56.28, 20.62, 42.67, 10.16, -26.12, -32.05, -21.37, 5.39, -0.3, -19.03, -0.54, -4.09, -22.24, -1.01, -4.93, -17.81, -0.53, -2.98]\n",
      "260\n",
      "[52.0, 33.0, 54.0, 99.0, 61.0, 107.0, 109.0, 26.0, 56.0, 65.94, 19.81, 45.4, 2.72, -35.9, -46.93, -29.2, 3.56, -0.61, -24.05, -0.89, -4.48, -26.66, -1.07, -4.94, -23.11, -1.85, -4.58]\n"
     ]
    }
   ],
   "source": [
    "x=prediction.size\n",
    "print(forest_feature_names2)\n",
    "for i in range(x):\n",
    "    if prediction[i]==1 and forest_target2[i]==0:\n",
    "        print(i)\n",
    "        print(forest_data2[i])"
   ]
  },
  {
   "cell_type": "code",
   "execution_count": 155,
   "id": "46419edb",
   "metadata": {},
   "outputs": [
    {
     "name": "stdout",
     "output_type": "stream",
     "text": [
      "0.7815384615384615\n",
      "[[119  12   5   0]\n",
      " [  9  29   0   0]\n",
      " [ 20   0  75  10]\n",
      " [  1   1  13  31]]\n"
     ]
    }
   ],
   "source": [
    "#build decision tree 2\n",
    "\n",
    "from sklearn import tree\n",
    "clf=tree.DecisionTreeClassifier(max_depth=3,criterion=\"entropy\")\n",
    "clf=clf.fit(forest_data,forest_target)\n",
    "\n",
    "import numpy as np\n",
    "forest_target_names=[\"'Sugi' forest\",\"'Hinoki' forest\",\"'Mixed deciduous' forest\",\"'Other' non-forest land\"]\n",
    "forestTest= np.array(forest_data2)\n",
    "prediction= clf.predict(forestTest)\n",
    "# print(forest_target_names[prediction])\n",
    "\n",
    "from sklearn.metrics import accuracy_score\n",
    "print(accuracy_score(forest_target2,prediction))\n",
    "\n",
    "from sklearn.metrics import confusion_matrix\n",
    "print(confusion_matrix(forest_target2,prediction))"
   ]
  },
  {
   "cell_type": "code",
   "execution_count": 156,
   "id": "47c3371b",
   "metadata": {},
   "outputs": [
    {
     "name": "stdout",
     "output_type": "stream",
     "text": [
      "0.7876923076923077\n",
      "[[119  12   5   0]\n",
      " [  9  29   0   0]\n",
      " [ 20   0  75  10]\n",
      " [  1   1  11  33]]\n"
     ]
    }
   ],
   "source": [
    "#build decision tree 3\n",
    "from sklearn import tree\n",
    "clf=tree.DecisionTreeClassifier(max_depth=3,criterion=\"entropy\",min_samples_split=50)\n",
    "clf=clf.fit(forest_data,forest_target)\n",
    "\n",
    "import numpy as np\n",
    "forest_target_names=[\"'Sugi' forest\",\"'Hinoki' forest\",\"'Mixed deciduous' forest\",\"'Other' non-forest land\"]\n",
    "forestTest= np.array(forest_data2)\n",
    "prediction= clf.predict(forestTest)\n",
    "# print(forest_target_names[prediction])\n",
    "\n",
    "from sklearn.metrics import accuracy_score\n",
    "print(accuracy_score(forest_target2,prediction))\n",
    "\n",
    "from sklearn.metrics import confusion_matrix\n",
    "print(confusion_matrix(forest_target2,prediction))"
   ]
  },
  {
   "cell_type": "code",
   "execution_count": 168,
   "id": "ebaa4f09",
   "metadata": {},
   "outputs": [
    {
     "name": "stdout",
     "output_type": "stream",
     "text": [
      "0.7876923076923077\n",
      "[[119  12   5   0]\n",
      " [  9  29   0   0]\n",
      " [ 20   0  75  10]\n",
      " [  1   1  11  33]]\n"
     ]
    }
   ],
   "source": [
    "#build decision tree 4\n",
    "from sklearn import tree\n",
    "clf=tree.DecisionTreeClassifier(max_depth=3,min_samples_split=50)\n",
    "clf=clf.fit(forest_data,forest_target)\n",
    "\n",
    "\n",
    "import numpy as np\n",
    "forest_target_names=[\"'Sugi' forest\",\"'Hinoki' forest\",\"'Mixed deciduous' forest\",\"'Other' non-forest land\"]\n",
    "forestTest= np.array(forest_data2)\n",
    "prediction= clf.predict(forestTest)\n",
    "# print(forest_target_names[prediction])\n",
    "\n",
    "from sklearn.metrics import accuracy_score\n",
    "print(accuracy_score(forest_target2,prediction))\n",
    "\n",
    "from sklearn.metrics import confusion_matrix\n",
    "print(confusion_matrix(forest_target2,prediction))"
   ]
  },
  {
   "cell_type": "code",
   "execution_count": 169,
   "id": "175fe8a2",
   "metadata": {},
   "outputs": [
    {
     "name": "stdout",
     "output_type": "stream",
     "text": [
      "0.8\n",
      "[[126   5   5   0]\n",
      " [ 12  26   0   0]\n",
      " [ 20   0  75  10]\n",
      " [  2   0  11  33]]\n"
     ]
    }
   ],
   "source": [
    "#build decision tree5\n",
    "from sklearn import tree\n",
    "clf=tree.DecisionTreeClassifier(max_depth=3,criterion=\"entropy\",min_samples_split=50,max_leaf_nodes=4)\n",
    "clf=clf.fit(forest_data,forest_target)\n",
    "import numpy as np\n",
    "forest_target_names=[\"'Sugi' forest\",\"'Hinoki' forest\",\"'Mixed deciduous' forest\",\"'Other' non-forest land\"]\n",
    "forestTest= np.array(forest_data2)\n",
    "prediction= clf.predict(forestTest)\n",
    "# print(forest_target_names[prediction])\n",
    "\n",
    "from sklearn.metrics import accuracy_score\n",
    "print(accuracy_score(forest_target2,prediction))\n",
    "\n",
    "from sklearn.metrics import confusion_matrix\n",
    "print(confusion_matrix(forest_target2,prediction))"
   ]
  },
  {
   "cell_type": "code",
   "execution_count": 170,
   "id": "7c1e37b5",
   "metadata": {},
   "outputs": [
    {
     "name": "stdout",
     "output_type": "stream",
     "text": [
      "0.8\n",
      "[[126   5   5   0]\n",
      " [ 12  26   0   0]\n",
      " [ 20   0  74  11]\n",
      " [  2   0  10  34]]\n"
     ]
    }
   ],
   "source": [
    "#build decision tree6\n",
    "from sklearn import tree\n",
    "clf=tree.DecisionTreeClassifier(max_depth=3,min_samples_split=50,max_leaf_nodes=4)\n",
    "clf=clf.fit(forest_data,forest_target)\n",
    "import numpy as np\n",
    "forest_target_names=[\"'Sugi' forest\",\"'Hinoki' forest\",\"'Mixed deciduous' forest\",\"'Other' non-forest land\"]\n",
    "forestTest= np.array(forest_data2)\n",
    "prediction= clf.predict(forestTest)\n",
    "# print(forest_target_names[prediction])\n",
    "\n",
    "from sklearn.metrics import accuracy_score\n",
    "print(accuracy_score(forest_target2,prediction))\n",
    "\n",
    "from sklearn.metrics import confusion_matrix\n",
    "print(confusion_matrix(forest_target2,prediction))"
   ]
  },
  {
   "cell_type": "code",
   "execution_count": null,
   "id": "822a44be",
   "metadata": {},
   "outputs": [],
   "source": []
  }
 ],
 "metadata": {
  "kernelspec": {
   "display_name": "Python 3 (ipykernel)",
   "language": "python",
   "name": "python3"
  },
  "language_info": {
   "codemirror_mode": {
    "name": "ipython",
    "version": 3
   },
   "file_extension": ".py",
   "mimetype": "text/x-python",
   "name": "python",
   "nbconvert_exporter": "python",
   "pygments_lexer": "ipython3",
   "version": "3.11.5"
  }
 },
 "nbformat": 4,
 "nbformat_minor": 5
}
